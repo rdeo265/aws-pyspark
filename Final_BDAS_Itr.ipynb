{
 "cells": [
  {
   "cell_type": "code",
   "execution_count": 125,
   "metadata": {},
   "outputs": [],
   "source": [
    "import findspark\n",
    "findspark.init('/home/ubuntu/spark-2.1.1-bin-hadoop2.7')\n",
    "import pyspark\n",
    "from pyspark.sql import SparkSession\n",
    "spark = SparkSession.builder.appName('Final_BDAS_Itr').getOrCreate()"
   ]
  },
  {
   "cell_type": "code",
   "execution_count": 126,
   "metadata": {},
   "outputs": [],
   "source": [
    "df1 = spark.read.csv('cardio_part1.csv', inferSchema=True, header=True)\n",
    "\n",
    "df2 = spark.read.csv('cardio_part2.csv', inferSchema=True, header=True)"
   ]
  },
  {
   "cell_type": "code",
   "execution_count": 127,
   "metadata": {},
   "outputs": [
    {
     "name": "stdout",
     "output_type": "stream",
     "text": [
      "(40000, 13)\n"
     ]
    }
   ],
   "source": [
    "print((df1.count(), len(df1.columns)))"
   ]
  },
  {
   "cell_type": "code",
   "execution_count": 128,
   "metadata": {},
   "outputs": [
    {
     "name": "stdout",
     "output_type": "stream",
     "text": [
      "+---+-----+------+------+------+-----+-----+-----------+----+-----+----+------+------+\n",
      "| id|  age|gender|height|weight|ap_hi|ap_lo|cholesterol|gluc|smoke|alco|active|cardio|\n",
      "+---+-----+------+------+------+-----+-----+-----------+----+-----+----+------+------+\n",
      "|  0|18393|     2|   168|  62.0|  110|   80|          1|   1|    0|   0|     1|     0|\n",
      "|  1|20228|     1|   156|  85.0|  140|   90|          3|   1|    0|   0|     1|     1|\n",
      "|  2|18857|     1|   165|  64.0|  130|   70|          3|   1|    0|   0|     0|     1|\n",
      "|  3|17623|     2|   169|  82.0|  150|  100|          1|   1|    0|   0|     1|     1|\n",
      "|  4|17474|     1|   156|  56.0|  100|   60|          1|   1|    0|   0|     0|     0|\n",
      "|  8|21914|     1|   151|  67.0|  120|   80|          2|   2|    0|   0|     0|     0|\n",
      "|  9|22113|     1|   157|  93.0|  130|   80|          3|   1|    0|   0|     1|     0|\n",
      "| 12|22584|     2|   178|  95.0|  130|   90|          3|   3|    0|   0|     1|     1|\n",
      "| 13|17668|     1|   158|  71.0|  110|   70|          1|   1|    0|   0|     1|     0|\n",
      "| 14|19834|     1|   164|  68.0|  110|   60|          1|   1|    0|   0|     0|     0|\n",
      "| 15|22530|     1|   169|  80.0|  120|   80|          1|   1|    0|   0|     1|     0|\n",
      "| 16|18815|     2|   173|  60.0|  120|   80|          1|   1|    0|   0|     1|     0|\n",
      "| 18|14791|     2|   165|  60.0|  120|   80|          1|   1|    0|   0|     0|     0|\n",
      "| 21|19809|     1|   158|  78.0|  110|   70|          1|   1|    0|   0|     1|     0|\n",
      "| 23|14532|     2|   181|  95.0|  130|   90|          1|   1|    1|   1|     1|     0|\n",
      "+---+-----+------+------+------+-----+-----+-----------+----+-----+----+------+------+\n",
      "only showing top 15 rows\n",
      "\n"
     ]
    }
   ],
   "source": [
    "df1.show(15)"
   ]
  },
  {
   "cell_type": "code",
   "execution_count": 129,
   "metadata": {},
   "outputs": [
    {
     "name": "stdout",
     "output_type": "stream",
     "text": [
      "(30000, 13)\n"
     ]
    }
   ],
   "source": [
    "print((df2.count(), len(df2.columns)))"
   ]
  },
  {
   "cell_type": "code",
   "execution_count": 130,
   "metadata": {},
   "outputs": [
    {
     "name": "stdout",
     "output_type": "stream",
     "text": [
      "+-----+-----+------+------+------+-----+-----+-----------+----+-----+----+------+------+\n",
      "|   id|  age|gender|height|weight|ap_hi|ap_lo|cholesterol|gluc|smoke|alco|active|cardio|\n",
      "+-----+-----+------+------+------+-----+-----+-----------+----+-----+----+------+------+\n",
      "|57183|14347|     2|   170|  79.0|  120|   70|          1|   1|    1|   0|     1|     0|\n",
      "|57184|20393|     1|   153|  72.0|  119|   86|          1|   1|    0|   0|     1|     1|\n",
      "|57185|19705|     1|   159|  74.0|  110|   70|          1|   1|    0|   0|     1|     0|\n",
      "|57186|18238|     2|   168|  65.0|  140|   90|          2|   2|    0|   0|     0|     1|\n",
      "|57187|19553|     2|   172|  84.0|  120|   80|          1|   1|    0|   0|     1|     1|\n",
      "|57189|19072|     1|   165|  70.0|  140|   90|          2|   2|    0|   0|     1|     1|\n",
      "|57191|21800|     1|   158| 105.0|  130|   80|          1|   1|    0|   0|     0|     0|\n",
      "|57192|17475|     2|   180|  83.0|  120|   80|          1|   1|    0|   0|     1|     0|\n",
      "|57194|18922|     1|   164|  61.0|  120|   80|          2|   1|    0|   0|     0|     0|\n",
      "|57195|14383|     1|   168|  66.0|  140|   90|          1|   1|    0|   0|     0|     0|\n",
      "|57196|19636|     1|   153|  83.0|  130|   80|          2|   2|    0|   0|     0|     1|\n",
      "|57197|21985|     1|   159| 107.0|  140|   95|          1|   1|    0|   1|     0|     1|\n",
      "|57199|22713|     1|   156|  56.0|  120|   80|          1|   1|    0|   0|     1|     0|\n",
      "|57200|23559|     2|   167|  60.0|  120|   80|          1|   2|    0|   0|     1|     0|\n",
      "|57204|19775|     1|   155|  70.0|  110|   60|          1|   1|    0|   0|     0|     0|\n",
      "+-----+-----+------+------+------+-----+-----+-----------+----+-----+----+------+------+\n",
      "only showing top 15 rows\n",
      "\n"
     ]
    }
   ],
   "source": [
    "df2.show(15)"
   ]
  },
  {
   "cell_type": "code",
   "execution_count": 131,
   "metadata": {},
   "outputs": [],
   "source": [
    "# union of rows in this frame and another frame\n",
    "\n",
    "df = df1.union(df2)"
   ]
  },
  {
   "cell_type": "code",
   "execution_count": 132,
   "metadata": {},
   "outputs": [
    {
     "name": "stdout",
     "output_type": "stream",
     "text": [
      "(70000, 13)\n"
     ]
    }
   ],
   "source": [
    "print((df.count(), len(df.columns)))"
   ]
  },
  {
   "cell_type": "code",
   "execution_count": 133,
   "metadata": {},
   "outputs": [
    {
     "name": "stdout",
     "output_type": "stream",
     "text": [
      "+---+-----+------+------+------+-----+-----+-----------+----+-----+----+------+------+\n",
      "| id|  age|gender|height|weight|ap_hi|ap_lo|cholesterol|gluc|smoke|alco|active|cardio|\n",
      "+---+-----+------+------+------+-----+-----+-----------+----+-----+----+------+------+\n",
      "|  0|18393|     2|   168|  62.0|  110|   80|          1|   1|    0|   0|     1|     0|\n",
      "|  1|20228|     1|   156|  85.0|  140|   90|          3|   1|    0|   0|     1|     1|\n",
      "|  2|18857|     1|   165|  64.0|  130|   70|          3|   1|    0|   0|     0|     1|\n",
      "|  3|17623|     2|   169|  82.0|  150|  100|          1|   1|    0|   0|     1|     1|\n",
      "|  4|17474|     1|   156|  56.0|  100|   60|          1|   1|    0|   0|     0|     0|\n",
      "|  8|21914|     1|   151|  67.0|  120|   80|          2|   2|    0|   0|     0|     0|\n",
      "|  9|22113|     1|   157|  93.0|  130|   80|          3|   1|    0|   0|     1|     0|\n",
      "| 12|22584|     2|   178|  95.0|  130|   90|          3|   3|    0|   0|     1|     1|\n",
      "| 13|17668|     1|   158|  71.0|  110|   70|          1|   1|    0|   0|     1|     0|\n",
      "| 14|19834|     1|   164|  68.0|  110|   60|          1|   1|    0|   0|     0|     0|\n",
      "| 15|22530|     1|   169|  80.0|  120|   80|          1|   1|    0|   0|     1|     0|\n",
      "| 16|18815|     2|   173|  60.0|  120|   80|          1|   1|    0|   0|     1|     0|\n",
      "| 18|14791|     2|   165|  60.0|  120|   80|          1|   1|    0|   0|     0|     0|\n",
      "| 21|19809|     1|   158|  78.0|  110|   70|          1|   1|    0|   0|     1|     0|\n",
      "| 23|14532|     2|   181|  95.0|  130|   90|          1|   1|    1|   1|     1|     0|\n",
      "| 24|16782|     2|   172| 112.0|  120|   80|          1|   1|    0|   0|     0|     1|\n",
      "| 25|21296|     1|   170|  75.0|  130|   70|          1|   1|    0|   0|     0|     0|\n",
      "| 27|16747|     1|   158|  52.0|  110|   70|          1|   3|    0|   0|     1|     0|\n",
      "| 28|17482|     1|   154|  68.0|  100|   70|          1|   1|    0|   0|     0|     0|\n",
      "| 29|21755|     2|   162|  56.0|  120|   70|          1|   1|    1|   0|     1|     0|\n",
      "+---+-----+------+------+------+-----+-----+-----------+----+-----+----+------+------+\n",
      "only showing top 20 rows\n",
      "\n"
     ]
    }
   ],
   "source": [
    "df.show(20)"
   ]
  },
  {
   "cell_type": "code",
   "execution_count": 134,
   "metadata": {},
   "outputs": [
    {
     "name": "stdout",
     "output_type": "stream",
     "text": [
      "+-------+------------------+------------------+------------------+------------------+------------------+-----------------+------------------+------------------+------------------+-------------------+--------------------+------------------+------------------+\n",
      "|summary|                id|               age|            gender|            height|            weight|            ap_hi|             ap_lo|       cholesterol|              gluc|              smoke|                alco|            active|            cardio|\n",
      "+-------+------------------+------------------+------------------+------------------+------------------+-----------------+------------------+------------------+------------------+-------------------+--------------------+------------------+------------------+\n",
      "|  count|             70000|             70000|             70000|             70000|             70000|            70000|             70000|             70000|             70000|              70000|               70000|             70000|             70000|\n",
      "|   mean|        49972.4199|19468.865814285713|1.3495714285714286|164.35922857142856|          74.20569|128.8172857142857| 96.63041428571428|1.3668714285714285| 1.226457142857143|0.08812857142857143|0.053771428571428574|0.8037285714285715|            0.4997|\n",
      "| stddev|28851.302323172684| 2467.251667241395|0.4768380155828635| 8.210126364538043|14.395756678511376|154.0114194560912|188.47253029638944|  0.68025034869938|0.5722702766138452|0.28348381676993495| 0.22556770360410477|0.3971790635049284|0.5000034814661869|\n",
      "|    min|                 0|             10798|                 1|                55|              10.0|             -150|               -70|                 1|                 1|                  0|                   0|                 0|                 0|\n",
      "|    max|             99999|             23713|                 2|               250|             200.0|            16020|             11000|                 3|                 3|                  1|                   1|                 1|                 1|\n",
      "+-------+------------------+------------------+------------------+------------------+------------------+-----------------+------------------+------------------+------------------+-------------------+--------------------+------------------+------------------+\n",
      "\n"
     ]
    }
   ],
   "source": [
    "df.describe().show()"
   ]
  },
  {
   "cell_type": "code",
   "execution_count": 135,
   "metadata": {},
   "outputs": [
    {
     "data": {
      "text/plain": [
       "[Row(id=0, age=18393, gender=2, height=168, weight=62.0, ap_hi=110, ap_lo=80, cholesterol=1, gluc=1, smoke=0, alco=0, active=1, cardio=0),\n",
       " Row(id=1, age=20228, gender=1, height=156, weight=85.0, ap_hi=140, ap_lo=90, cholesterol=3, gluc=1, smoke=0, alco=0, active=1, cardio=1),\n",
       " Row(id=2, age=18857, gender=1, height=165, weight=64.0, ap_hi=130, ap_lo=70, cholesterol=3, gluc=1, smoke=0, alco=0, active=0, cardio=1),\n",
       " Row(id=3, age=17623, gender=2, height=169, weight=82.0, ap_hi=150, ap_lo=100, cholesterol=1, gluc=1, smoke=0, alco=0, active=1, cardio=1),\n",
       " Row(id=4, age=17474, gender=1, height=156, weight=56.0, ap_hi=100, ap_lo=60, cholesterol=1, gluc=1, smoke=0, alco=0, active=0, cardio=0)]"
      ]
     },
     "execution_count": 135,
     "metadata": {},
     "output_type": "execute_result"
    }
   ],
   "source": [
    "df.head(5)"
   ]
  },
  {
   "cell_type": "code",
   "execution_count": 136,
   "metadata": {},
   "outputs": [
    {
     "data": {
      "text/plain": [
       "['id',\n",
       " 'age',\n",
       " 'gender',\n",
       " 'height',\n",
       " 'weight',\n",
       " 'ap_hi',\n",
       " 'ap_lo',\n",
       " 'cholesterol',\n",
       " 'gluc',\n",
       " 'smoke',\n",
       " 'alco',\n",
       " 'active',\n",
       " 'cardio']"
      ]
     },
     "execution_count": 136,
     "metadata": {},
     "output_type": "execute_result"
    }
   ],
   "source": [
    "type(df.columns)\n",
    "df.columns"
   ]
  },
  {
   "cell_type": "code",
   "execution_count": 137,
   "metadata": {},
   "outputs": [
    {
     "data": {
      "text/plain": [
       "[('id', 'int'),\n",
       " ('age', 'int'),\n",
       " ('gender', 'int'),\n",
       " ('height', 'int'),\n",
       " ('weight', 'double'),\n",
       " ('ap_hi', 'int'),\n",
       " ('ap_lo', 'int'),\n",
       " ('cholesterol', 'int'),\n",
       " ('gluc', 'int'),\n",
       " ('smoke', 'int'),\n",
       " ('alco', 'int'),\n",
       " ('active', 'int'),\n",
       " ('cardio', 'int')]"
      ]
     },
     "execution_count": 137,
     "metadata": {},
     "output_type": "execute_result"
    }
   ],
   "source": [
    "df.dtypes"
   ]
  },
  {
   "cell_type": "code",
   "execution_count": 138,
   "metadata": {},
   "outputs": [
    {
     "name": "stdout",
     "output_type": "stream",
     "text": [
      "root\n",
      " |-- id: integer (nullable = true)\n",
      " |-- age: integer (nullable = true)\n",
      " |-- gender: integer (nullable = true)\n",
      " |-- height: integer (nullable = true)\n",
      " |-- weight: double (nullable = true)\n",
      " |-- ap_hi: integer (nullable = true)\n",
      " |-- ap_lo: integer (nullable = true)\n",
      " |-- cholesterol: integer (nullable = true)\n",
      " |-- gluc: integer (nullable = true)\n",
      " |-- smoke: integer (nullable = true)\n",
      " |-- alco: integer (nullable = true)\n",
      " |-- active: integer (nullable = true)\n",
      " |-- cardio: integer (nullable = true)\n",
      "\n"
     ]
    }
   ],
   "source": [
    "df.printSchema()"
   ]
  },
  {
   "cell_type": "code",
   "execution_count": 139,
   "metadata": {},
   "outputs": [
    {
     "data": {
      "text/plain": [
       "['age', 'gender']"
      ]
     },
     "execution_count": 139,
     "metadata": {},
     "output_type": "execute_result"
    }
   ],
   "source": [
    "df.select('age', 'gender').columns"
   ]
  },
  {
   "cell_type": "code",
   "execution_count": 140,
   "metadata": {},
   "outputs": [
    {
     "data": {
      "text/plain": [
       "['age', 'gender']"
      ]
     },
     "execution_count": 140,
     "metadata": {},
     "output_type": "execute_result"
    }
   ],
   "source": [
    "['age', 'gender']"
   ]
  },
  {
   "cell_type": "code",
   "execution_count": null,
   "metadata": {},
   "outputs": [],
   "source": []
  },
  {
   "cell_type": "code",
   "execution_count": null,
   "metadata": {},
   "outputs": [],
   "source": []
  },
  {
   "cell_type": "code",
   "execution_count": 141,
   "metadata": {},
   "outputs": [
    {
     "name": "stdout",
     "output_type": "stream",
     "text": [
      "+---+-----+------+------+------+-----+-----+-----------+----+-----+----+------+------+\n",
      "| id|  age|gender|height|weight|ap_hi|ap_lo|cholesterol|gluc|smoke|alco|active|cardio|\n",
      "+---+-----+------+------+------+-----+-----+-----------+----+-----+----+------+------+\n",
      "|  0|18393|     2|   168|  62.0|  110|   80|          1|   1|    0|   0|     1|     0|\n",
      "|  1|20228|     1|   156|  85.0|  140|   90|          3|   1|    0|   0|     1|     1|\n",
      "|  2|18857|     1|   165|  64.0|  130|   70|          3|   1|    0|   0|     0|     1|\n",
      "|  3|17623|     2|   169|  82.0|  150|  100|          1|   1|    0|   0|     1|     1|\n",
      "|  4|17474|     1|   156|  56.0|  100|   60|          1|   1|    0|   0|     0|     0|\n",
      "|  8|21914|     1|   151|  67.0|  120|   80|          2|   2|    0|   0|     0|     0|\n",
      "|  9|22113|     1|   157|  93.0|  130|   80|          3|   1|    0|   0|     1|     0|\n",
      "| 12|22584|     2|   178|  95.0|  130|   90|          3|   3|    0|   0|     1|     1|\n",
      "| 13|17668|     1|   158|  71.0|  110|   70|          1|   1|    0|   0|     1|     0|\n",
      "| 14|19834|     1|   164|  68.0|  110|   60|          1|   1|    0|   0|     0|     0|\n",
      "| 15|22530|     1|   169|  80.0|  120|   80|          1|   1|    0|   0|     1|     0|\n",
      "| 16|18815|     2|   173|  60.0|  120|   80|          1|   1|    0|   0|     1|     0|\n",
      "| 18|14791|     2|   165|  60.0|  120|   80|          1|   1|    0|   0|     0|     0|\n",
      "| 21|19809|     1|   158|  78.0|  110|   70|          1|   1|    0|   0|     1|     0|\n",
      "| 23|14532|     2|   181|  95.0|  130|   90|          1|   1|    1|   1|     1|     0|\n",
      "| 24|16782|     2|   172| 112.0|  120|   80|          1|   1|    0|   0|     0|     1|\n",
      "| 25|21296|     1|   170|  75.0|  130|   70|          1|   1|    0|   0|     0|     0|\n",
      "| 27|16747|     1|   158|  52.0|  110|   70|          1|   3|    0|   0|     1|     0|\n",
      "| 28|17482|     1|   154|  68.0|  100|   70|          1|   1|    0|   0|     0|     0|\n",
      "| 29|21755|     2|   162|  56.0|  120|   70|          1|   1|    1|   0|     1|     0|\n",
      "+---+-----+------+------+------+-----+-----+-----------+----+-----+----+------+------+\n",
      "only showing top 20 rows\n",
      "\n"
     ]
    }
   ],
   "source": [
    "df.show()"
   ]
  },
  {
   "cell_type": "code",
   "execution_count": null,
   "metadata": {},
   "outputs": [],
   "source": []
  },
  {
   "cell_type": "code",
   "execution_count": null,
   "metadata": {},
   "outputs": [],
   "source": []
  },
  {
   "cell_type": "code",
   "execution_count": null,
   "metadata": {},
   "outputs": [],
   "source": []
  },
  {
   "cell_type": "code",
   "execution_count": 142,
   "metadata": {},
   "outputs": [
    {
     "name": "stdout",
     "output_type": "stream",
     "text": [
      "+---+---+------+------+------+-----+-----+-----------+----+-----+----+------+------+\n",
      "| id|age|gender|height|weight|ap_hi|ap_lo|cholesterol|gluc|smoke|alco|active|cardio|\n",
      "+---+---+------+------+------+-----+-----+-----------+----+-----+----+------+------+\n",
      "|  0|  0|     0|     0|     0|    0|    0|          0|   0|    0|   0|     0|     0|\n",
      "+---+---+------+------+------+-----+-----+-----------+----+-----+----+------+------+\n",
      "\n"
     ]
    }
   ],
   "source": [
    "from pyspark.sql.functions import col,sum\n",
    "\n",
    "df.select(*(sum(col(c).isNull().cast(\"int\")).alias(c) for c in df.columns)).show()"
   ]
  },
  {
   "cell_type": "code",
   "execution_count": 143,
   "metadata": {},
   "outputs": [
    {
     "name": "stdout",
     "output_type": "stream",
     "text": [
      "+---+---+------+------+------+-----+-----+-----------+----+-----+----+------+------+\n",
      "| id|age|gender|height|weight|ap_hi|ap_lo|cholesterol|gluc|smoke|alco|active|cardio|\n",
      "+---+---+------+------+------+-----+-----+-----------+----+-----+----+------+------+\n",
      "|  0|  0|     0|     0|     0|    0|    0|          0|   0|    0|   0|     0|     0|\n",
      "+---+---+------+------+------+-----+-----+-----------+----+-----+----+------+------+\n",
      "\n"
     ]
    }
   ],
   "source": [
    "from pyspark.sql.functions import isnan, when, count, col\n",
    "\n",
    "df.select([count(when(isnan(c), c)).alias(c) for c in df.columns]).show()"
   ]
  },
  {
   "cell_type": "code",
   "execution_count": null,
   "metadata": {},
   "outputs": [],
   "source": []
  },
  {
   "cell_type": "code",
   "execution_count": 144,
   "metadata": {},
   "outputs": [],
   "source": [
    "df_null = spark.read.csv('cardio_null.csv', inferSchema=True, header=True)"
   ]
  },
  {
   "cell_type": "code",
   "execution_count": 145,
   "metadata": {},
   "outputs": [
    {
     "name": "stdout",
     "output_type": "stream",
     "text": [
      "(40005, 13)\n"
     ]
    }
   ],
   "source": [
    "print((df_null.count(), len(df_null.columns)))"
   ]
  },
  {
   "cell_type": "code",
   "execution_count": 146,
   "metadata": {},
   "outputs": [
    {
     "name": "stdout",
     "output_type": "stream",
     "text": [
      "+---+---+------+------+------+-----+-----+-----------+----+-----+----+------+------+\n",
      "| id|age|gender|height|weight|ap_hi|ap_lo|cholesterol|gluc|smoke|alco|active|cardio|\n",
      "+---+---+------+------+------+-----+-----+-----------+----+-----+----+------+------+\n",
      "|  0|  3|     3|     3|     4|    3|    4|          5|   3|    4|   4|     2|     3|\n",
      "+---+---+------+------+------+-----+-----+-----------+----+-----+----+------+------+\n",
      "\n"
     ]
    }
   ],
   "source": [
    "from pyspark.sql.functions import col,sum\n",
    "\n",
    "df_null.select(*(sum(col(c).isNull().cast(\"int\")).alias(c) for c in df_null.columns)).show()"
   ]
  },
  {
   "cell_type": "code",
   "execution_count": 147,
   "metadata": {},
   "outputs": [
    {
     "name": "stdout",
     "output_type": "stream",
     "text": [
      "+---+---+------+------+------+-----+-----+-----------+----+-----+----+------+------+\n",
      "| id|age|gender|height|weight|ap_hi|ap_lo|cholesterol|gluc|smoke|alco|active|cardio|\n",
      "+---+---+------+------+------+-----+-----+-----------+----+-----+----+------+------+\n",
      "|  0|  0|     0|     0|     0|    0|    0|          0|   0|    0|   0|     0|     0|\n",
      "+---+---+------+------+------+-----+-----+-----------+----+-----+----+------+------+\n",
      "\n"
     ]
    }
   ],
   "source": [
    "from pyspark.sql.functions import isnan, when, count, col\n",
    "\n",
    "df_null.select([count(when(isnan(c), c)).alias(c) for c in df_null.columns]).show()"
   ]
  },
  {
   "cell_type": "code",
   "execution_count": 148,
   "metadata": {},
   "outputs": [
    {
     "data": {
      "text/plain": [
       "40000"
      ]
     },
     "execution_count": 148,
     "metadata": {},
     "output_type": "execute_result"
    }
   ],
   "source": [
    "df_null.na.drop().count()"
   ]
  },
  {
   "cell_type": "code",
   "execution_count": 149,
   "metadata": {},
   "outputs": [],
   "source": [
    "df_no_null = df_null.na.drop()"
   ]
  },
  {
   "cell_type": "code",
   "execution_count": 150,
   "metadata": {},
   "outputs": [
    {
     "name": "stdout",
     "output_type": "stream",
     "text": [
      "(40000, 13)\n"
     ]
    }
   ],
   "source": [
    "print((df_no_null.count(), len(df_no_null.columns)))"
   ]
  },
  {
   "cell_type": "code",
   "execution_count": null,
   "metadata": {},
   "outputs": [],
   "source": []
  },
  {
   "cell_type": "code",
   "execution_count": null,
   "metadata": {},
   "outputs": [],
   "source": []
  },
  {
   "cell_type": "code",
   "execution_count": null,
   "metadata": {},
   "outputs": [],
   "source": []
  },
  {
   "cell_type": "code",
   "execution_count": null,
   "metadata": {},
   "outputs": [],
   "source": []
  },
  {
   "cell_type": "code",
   "execution_count": 151,
   "metadata": {},
   "outputs": [
    {
     "name": "stdout",
     "output_type": "stream",
     "text": [
      "+-------+-----------------+\n",
      "|summary|            ap_hi|\n",
      "+-------+-----------------+\n",
      "|  count|            70000|\n",
      "|   mean|128.8172857142857|\n",
      "| stddev|154.0114194560912|\n",
      "|    min|             -150|\n",
      "|    max|            16020|\n",
      "+-------+-----------------+\n",
      "\n",
      "+-------+------------------+\n",
      "|summary|             ap_lo|\n",
      "+-------+------------------+\n",
      "|  count|             70000|\n",
      "|   mean| 96.63041428571428|\n",
      "| stddev|188.47253029638944|\n",
      "|    min|               -70|\n",
      "|    max|             11000|\n",
      "+-------+------------------+\n",
      "\n"
     ]
    }
   ],
   "source": [
    "df.describe('ap_hi').show()\n",
    "df.describe('ap_lo').show()"
   ]
  },
  {
   "cell_type": "code",
   "execution_count": 152,
   "metadata": {},
   "outputs": [],
   "source": [
    "df = df.filter((df.ap_hi <= 300) & (df.ap_lo <= 200))\n",
    "df = df.filter((df.ap_hi >= 20) & (df.ap_lo >= 5))"
   ]
  },
  {
   "cell_type": "code",
   "execution_count": 153,
   "metadata": {},
   "outputs": [
    {
     "name": "stdout",
     "output_type": "stream",
     "text": [
      "(68814, 13)\n"
     ]
    }
   ],
   "source": [
    "print((df.count(), len(df.columns)))"
   ]
  },
  {
   "cell_type": "code",
   "execution_count": 154,
   "metadata": {},
   "outputs": [
    {
     "name": "stdout",
     "output_type": "stream",
     "text": [
      "+-------+------------------+\n",
      "|summary|             ap_hi|\n",
      "+-------+------------------+\n",
      "|  count|             68814|\n",
      "|   mean|126.60618478797919|\n",
      "| stddev| 16.79058368777753|\n",
      "|    min|                20|\n",
      "|    max|               240|\n",
      "+-------+------------------+\n",
      "\n",
      "+-------+-----------------+\n",
      "|summary|            ap_lo|\n",
      "+-------+-----------------+\n",
      "|  count|            68814|\n",
      "|   mean|81.35082977301131|\n",
      "| stddev|9.788861568900998|\n",
      "|    min|                6|\n",
      "|    max|              190|\n",
      "+-------+-----------------+\n",
      "\n"
     ]
    }
   ],
   "source": [
    "df.describe('ap_hi').show()\n",
    "df.describe('ap_lo').show()"
   ]
  },
  {
   "cell_type": "code",
   "execution_count": null,
   "metadata": {},
   "outputs": [],
   "source": []
  },
  {
   "cell_type": "code",
   "execution_count": null,
   "metadata": {},
   "outputs": [],
   "source": []
  },
  {
   "cell_type": "code",
   "execution_count": null,
   "metadata": {},
   "outputs": [],
   "source": []
  },
  {
   "cell_type": "code",
   "execution_count": null,
   "metadata": {},
   "outputs": [],
   "source": []
  },
  {
   "cell_type": "code",
   "execution_count": 155,
   "metadata": {},
   "outputs": [],
   "source": [
    "df = df.drop('id')"
   ]
  },
  {
   "cell_type": "code",
   "execution_count": 156,
   "metadata": {},
   "outputs": [
    {
     "data": {
      "text/plain": [
       "['age',\n",
       " 'gender',\n",
       " 'height',\n",
       " 'weight',\n",
       " 'ap_hi',\n",
       " 'ap_lo',\n",
       " 'cholesterol',\n",
       " 'gluc',\n",
       " 'smoke',\n",
       " 'alco',\n",
       " 'active',\n",
       " 'cardio']"
      ]
     },
     "execution_count": 156,
     "metadata": {},
     "output_type": "execute_result"
    }
   ],
   "source": [
    "df.columns"
   ]
  },
  {
   "cell_type": "code",
   "execution_count": 157,
   "metadata": {},
   "outputs": [
    {
     "name": "stdout",
     "output_type": "stream",
     "text": [
      "+-----+------+------+------+-----+-----+-----------+----+-----+----+------+------+\n",
      "|  age|gender|height|weight|ap_hi|ap_lo|cholesterol|gluc|smoke|alco|active|cardio|\n",
      "+-----+------+------+------+-----+-----+-----------+----+-----+----+------+------+\n",
      "|18393|     2|   168|  62.0|  110|   80|          1|   1|    0|   0|     1|     0|\n",
      "|20228|     1|   156|  85.0|  140|   90|          3|   1|    0|   0|     1|     1|\n",
      "|18857|     1|   165|  64.0|  130|   70|          3|   1|    0|   0|     0|     1|\n",
      "|17623|     2|   169|  82.0|  150|  100|          1|   1|    0|   0|     1|     1|\n",
      "|17474|     1|   156|  56.0|  100|   60|          1|   1|    0|   0|     0|     0|\n",
      "|21914|     1|   151|  67.0|  120|   80|          2|   2|    0|   0|     0|     0|\n",
      "|22113|     1|   157|  93.0|  130|   80|          3|   1|    0|   0|     1|     0|\n",
      "|22584|     2|   178|  95.0|  130|   90|          3|   3|    0|   0|     1|     1|\n",
      "|17668|     1|   158|  71.0|  110|   70|          1|   1|    0|   0|     1|     0|\n",
      "|19834|     1|   164|  68.0|  110|   60|          1|   1|    0|   0|     0|     0|\n",
      "+-----+------+------+------+-----+-----+-----------+----+-----+----+------+------+\n",
      "only showing top 10 rows\n",
      "\n"
     ]
    }
   ],
   "source": [
    "df.show(10)"
   ]
  },
  {
   "cell_type": "code",
   "execution_count": null,
   "metadata": {},
   "outputs": [],
   "source": []
  },
  {
   "cell_type": "code",
   "execution_count": null,
   "metadata": {},
   "outputs": [],
   "source": []
  },
  {
   "cell_type": "code",
   "execution_count": null,
   "metadata": {},
   "outputs": [],
   "source": []
  },
  {
   "cell_type": "code",
   "execution_count": 158,
   "metadata": {},
   "outputs": [],
   "source": [
    "df = df.withColumn('bmi',  df[\"weight\"]/(df[\"height\"]/100)**2 )"
   ]
  },
  {
   "cell_type": "code",
   "execution_count": 159,
   "metadata": {},
   "outputs": [
    {
     "data": {
      "text/plain": [
       "['age',\n",
       " 'gender',\n",
       " 'height',\n",
       " 'weight',\n",
       " 'ap_hi',\n",
       " 'ap_lo',\n",
       " 'cholesterol',\n",
       " 'gluc',\n",
       " 'smoke',\n",
       " 'alco',\n",
       " 'active',\n",
       " 'cardio',\n",
       " 'bmi']"
      ]
     },
     "execution_count": 159,
     "metadata": {},
     "output_type": "execute_result"
    }
   ],
   "source": [
    "df.columns"
   ]
  },
  {
   "cell_type": "code",
   "execution_count": 160,
   "metadata": {},
   "outputs": [
    {
     "data": {
      "text/plain": [
       "Row(age=18393, gender=2, height=168, weight=62.0, ap_hi=110, ap_lo=80, cholesterol=1, gluc=1, smoke=0, alco=0, active=1, bmi=21.9671201814059, cardio=0)"
      ]
     },
     "execution_count": 160,
     "metadata": {},
     "output_type": "execute_result"
    }
   ],
   "source": [
    "COLUMNS = ['age', 'gender', 'height', 'weight', \n",
    "           'ap_hi', 'ap_lo', 'cholesterol', 'gluc', 'smoke', \n",
    "           'alco', 'active', 'bmi', 'cardio' ]\n",
    "df = df.select(COLUMNS)\n",
    "df.first()"
   ]
  },
  {
   "cell_type": "code",
   "execution_count": 161,
   "metadata": {},
   "outputs": [
    {
     "name": "stdout",
     "output_type": "stream",
     "text": [
      "+-----+------+------+------+-----+-----+-----------+----+-----+----+------+------------------+------+\n",
      "|  age|gender|height|weight|ap_hi|ap_lo|cholesterol|gluc|smoke|alco|active|               bmi|cardio|\n",
      "+-----+------+------+------+-----+-----+-----------+----+-----+----+------+------------------+------+\n",
      "|18393|     2|   168|  62.0|  110|   80|          1|   1|    0|   0|     1|  21.9671201814059|     0|\n",
      "|20228|     1|   156|  85.0|  140|   90|          3|   1|    0|   0|     1|34.927679158448385|     1|\n",
      "|18857|     1|   165|  64.0|  130|   70|          3|   1|    0|   0|     0|23.507805325987146|     1|\n",
      "|17623|     2|   169|  82.0|  150|  100|          1|   1|    0|   0|     1| 28.71047932495361|     1|\n",
      "|17474|     1|   156|  56.0|  100|   60|          1|   1|    0|   0|     0|23.011176857330703|     0|\n",
      "|21914|     1|   151|  67.0|  120|   80|          2|   2|    0|   0|     0|29.384676110696898|     0|\n",
      "|22113|     1|   157|  93.0|  130|   80|          3|   1|    0|   0|     1| 37.72972534382733|     0|\n",
      "|22584|     2|   178|  95.0|  130|   90|          3|   3|    0|   0|     1|29.983587930816814|     1|\n",
      "|17668|     1|   158|  71.0|  110|   70|          1|   1|    0|   0|     1| 28.44095497516423|     0|\n",
      "|19834|     1|   164|  68.0|  110|   60|          1|   1|    0|   0|     0|25.282569898869724|     0|\n",
      "+-----+------+------+------+-----+-----+-----------+----+-----+----+------+------------------+------+\n",
      "only showing top 10 rows\n",
      "\n"
     ]
    }
   ],
   "source": [
    "df.show(10)"
   ]
  },
  {
   "cell_type": "code",
   "execution_count": 162,
   "metadata": {},
   "outputs": [
    {
     "name": "stdout",
     "output_type": "stream",
     "text": [
      "root\n",
      " |-- age: integer (nullable = true)\n",
      " |-- gender: integer (nullable = true)\n",
      " |-- height: integer (nullable = true)\n",
      " |-- weight: double (nullable = true)\n",
      " |-- ap_hi: integer (nullable = true)\n",
      " |-- ap_lo: integer (nullable = true)\n",
      " |-- cholesterol: integer (nullable = true)\n",
      " |-- gluc: integer (nullable = true)\n",
      " |-- smoke: integer (nullable = true)\n",
      " |-- alco: integer (nullable = true)\n",
      " |-- active: integer (nullable = true)\n",
      " |-- bmi: double (nullable = true)\n",
      " |-- cardio: integer (nullable = true)\n",
      "\n"
     ]
    }
   ],
   "source": [
    "df.printSchema()"
   ]
  },
  {
   "cell_type": "code",
   "execution_count": 163,
   "metadata": {},
   "outputs": [
    {
     "data": {
      "text/plain": [
       "['age',\n",
       " 'gender',\n",
       " 'height',\n",
       " 'weight',\n",
       " 'ap_hi',\n",
       " 'ap_lo',\n",
       " 'cholesterol',\n",
       " 'gluc',\n",
       " 'smoke',\n",
       " 'alco',\n",
       " 'active',\n",
       " 'bmi',\n",
       " 'cardio']"
      ]
     },
     "execution_count": 163,
     "metadata": {},
     "output_type": "execute_result"
    }
   ],
   "source": [
    "df.columns"
   ]
  },
  {
   "cell_type": "code",
   "execution_count": 164,
   "metadata": {},
   "outputs": [
    {
     "name": "stdout",
     "output_type": "stream",
     "text": [
      "+-------+-----------------+\n",
      "|summary|              bmi|\n",
      "+-------+-----------------+\n",
      "|  count|            68814|\n",
      "|   mean|27.52445730048036|\n",
      "| stddev|6.067480028035472|\n",
      "|    min|3.471783865673526|\n",
      "|    max|298.6666666666667|\n",
      "+-------+-----------------+\n",
      "\n"
     ]
    }
   ],
   "source": [
    "df.describe('bmi').show()"
   ]
  },
  {
   "cell_type": "code",
   "execution_count": null,
   "metadata": {},
   "outputs": [],
   "source": []
  },
  {
   "cell_type": "code",
   "execution_count": null,
   "metadata": {},
   "outputs": [],
   "source": []
  },
  {
   "cell_type": "code",
   "execution_count": null,
   "metadata": {},
   "outputs": [],
   "source": []
  },
  {
   "cell_type": "code",
   "execution_count": null,
   "metadata": {},
   "outputs": [],
   "source": []
  },
  {
   "cell_type": "code",
   "execution_count": 165,
   "metadata": {},
   "outputs": [
    {
     "name": "stdout",
     "output_type": "stream",
     "text": [
      "+-----+\n",
      "|  age|\n",
      "+-----+\n",
      "|18393|\n",
      "|20228|\n",
      "|18857|\n",
      "|17623|\n",
      "|17474|\n",
      "|21914|\n",
      "|22113|\n",
      "|22584|\n",
      "|17668|\n",
      "|19834|\n",
      "|22530|\n",
      "|18815|\n",
      "|14791|\n",
      "|19809|\n",
      "|14532|\n",
      "+-----+\n",
      "only showing top 15 rows\n",
      "\n"
     ]
    }
   ],
   "source": [
    "df.select('age').show(15)"
   ]
  },
  {
   "cell_type": "code",
   "execution_count": 166,
   "metadata": {},
   "outputs": [],
   "source": [
    "df = df.withColumn('age',  df[\"age\"]/365 )"
   ]
  },
  {
   "cell_type": "code",
   "execution_count": 167,
   "metadata": {},
   "outputs": [
    {
     "name": "stdout",
     "output_type": "stream",
     "text": [
      "+------------------+\n",
      "|               age|\n",
      "+------------------+\n",
      "|50.391780821917806|\n",
      "| 55.41917808219178|\n",
      "| 51.66301369863014|\n",
      "| 48.28219178082192|\n",
      "| 47.87397260273973|\n",
      "|60.038356164383565|\n",
      "|60.583561643835615|\n",
      "| 61.87397260273973|\n",
      "| 48.40547945205479|\n",
      "| 54.33972602739726|\n",
      "|61.726027397260275|\n",
      "| 51.54794520547945|\n",
      "| 40.52328767123288|\n",
      "|54.271232876712325|\n",
      "| 39.81369863013698|\n",
      "+------------------+\n",
      "only showing top 15 rows\n",
      "\n"
     ]
    }
   ],
   "source": [
    "df.select('age').show(15)"
   ]
  },
  {
   "cell_type": "code",
   "execution_count": 168,
   "metadata": {},
   "outputs": [
    {
     "name": "stdout",
     "output_type": "stream",
     "text": [
      "root\n",
      " |-- age: double (nullable = true)\n",
      " |-- gender: integer (nullable = true)\n",
      " |-- height: integer (nullable = true)\n",
      " |-- weight: double (nullable = true)\n",
      " |-- ap_hi: integer (nullable = true)\n",
      " |-- ap_lo: integer (nullable = true)\n",
      " |-- cholesterol: integer (nullable = true)\n",
      " |-- gluc: integer (nullable = true)\n",
      " |-- smoke: integer (nullable = true)\n",
      " |-- alco: integer (nullable = true)\n",
      " |-- active: integer (nullable = true)\n",
      " |-- bmi: double (nullable = true)\n",
      " |-- cardio: integer (nullable = true)\n",
      "\n"
     ]
    }
   ],
   "source": [
    "df.printSchema()"
   ]
  },
  {
   "cell_type": "code",
   "execution_count": null,
   "metadata": {},
   "outputs": [],
   "source": []
  },
  {
   "cell_type": "code",
   "execution_count": null,
   "metadata": {},
   "outputs": [],
   "source": [
    "\n"
   ]
  },
  {
   "cell_type": "code",
   "execution_count": 169,
   "metadata": {},
   "outputs": [
    {
     "name": "stdout",
     "output_type": "stream",
     "text": [
      "+-------+------------------+-------------------+------------------+------------------+------------------+-----------------+------------------+-----------------+-------------------+--------------------+-------------------+-----------------+-------------------+\n",
      "|summary|               age|             gender|            height|            weight|             ap_hi|            ap_lo|       cholesterol|             gluc|              smoke|                alco|             active|              bmi|             cardio|\n",
      "+-------+------------------+-------------------+------------------+------------------+------------------+-----------------+------------------+-----------------+-------------------+--------------------+-------------------+-----------------+-------------------+\n",
      "|  count|             68814|              68814|             68814|             68814|             68814|            68814|             68814|            68814|              68814|               68814|              68814|            68814|              68814|\n",
      "|   mean|  53.3265202883615| 1.3487371755747377|164.36088586624814| 74.12272938646205|126.60618478797919|81.35082977301131|1.3646932310285698|1.225927863516145|0.08796175196907606|0.053622809312058595| 0.8034120963757375|27.52445730048036| 0.4949283576016508|\n",
      "| stddev| 6.761817710040266|0.47657408498533665| 8.192501568660415|14.332972363771812| 16.79058368777753|9.788861568900998|0.6789790719127026|0.571872790446417|0.28324132465591717| 0.22527348068915032|0.39742092923587935|6.067480028035472|0.49997791061610897|\n",
      "|    min|29.583561643835615|                  1|                55|              11.0|                20|                6|                 1|                1|                  0|                   0|                  0|3.471783865673526|                  0|\n",
      "|    max| 64.96712328767123|                  2|               250|             200.0|               240|              190|                 3|                3|                  1|                   1|                  1|298.6666666666667|                  1|\n",
      "+-------+------------------+-------------------+------------------+------------------+------------------+-----------------+------------------+-----------------+-------------------+--------------------+-------------------+-----------------+-------------------+\n",
      "\n"
     ]
    }
   ],
   "source": [
    "df.describe().show()"
   ]
  },
  {
   "cell_type": "code",
   "execution_count": null,
   "metadata": {},
   "outputs": [],
   "source": []
  },
  {
   "cell_type": "code",
   "execution_count": null,
   "metadata": {},
   "outputs": [],
   "source": []
  },
  {
   "cell_type": "code",
   "execution_count": 170,
   "metadata": {},
   "outputs": [
    {
     "name": "stdout",
     "output_type": "stream",
     "text": [
      "+------------------+------+------+------+-----+-----+-----------+----+-----+----+------+------------------+------+\n",
      "|               age|gender|height|weight|ap_hi|ap_lo|cholesterol|gluc|smoke|alco|active|               bmi|cardio|\n",
      "+------------------+------+------+------+-----+-----+-----------+----+-----+----+------+------------------+------+\n",
      "|50.391780821917806|     2|   168|  62.0|  110|   80|          1|   1|    0|   0|     1|  21.9671201814059|     0|\n",
      "| 55.41917808219178|     1|   156|  85.0|  140|   90|          3|   1|    0|   0|     1|34.927679158448385|     1|\n",
      "+------------------+------+------+------+-----+-----+-----------+----+-----+----+------+------------------+------+\n",
      "only showing top 2 rows\n",
      "\n"
     ]
    }
   ],
   "source": [
    "df.show(2)"
   ]
  },
  {
   "cell_type": "code",
   "execution_count": null,
   "metadata": {},
   "outputs": [],
   "source": []
  },
  {
   "cell_type": "code",
   "execution_count": null,
   "metadata": {},
   "outputs": [],
   "source": []
  },
  {
   "cell_type": "code",
   "execution_count": null,
   "metadata": {},
   "outputs": [],
   "source": []
  },
  {
   "cell_type": "code",
   "execution_count": null,
   "metadata": {},
   "outputs": [],
   "source": []
  },
  {
   "cell_type": "code",
   "execution_count": 171,
   "metadata": {},
   "outputs": [],
   "source": [
    "##  Data Transformation --> 0 to 1\n",
    "\n",
    "\n"
   ]
  },
  {
   "cell_type": "code",
   "execution_count": null,
   "metadata": {},
   "outputs": [],
   "source": []
  },
  {
   "cell_type": "code",
   "execution_count": 172,
   "metadata": {},
   "outputs": [],
   "source": [
    "import numpy as np\n",
    "from pyspark.sql import functions as F\n",
    "from pyspark.sql import SQLContext\n",
    "\n",
    "from pyspark.ml.feature import MinMaxScaler\n",
    "from pyspark.ml.feature import VectorAssembler"
   ]
  },
  {
   "cell_type": "code",
   "execution_count": 173,
   "metadata": {},
   "outputs": [
    {
     "name": "stdout",
     "output_type": "stream",
     "text": [
      "+------------------+------+------+------+-----+-----+-----------+----+-----+----+------+------------------+------+\n",
      "|               age|gender|height|weight|ap_hi|ap_lo|cholesterol|gluc|smoke|alco|active|               bmi|cardio|\n",
      "+------------------+------+------+------+-----+-----+-----------+----+-----+----+------+------------------+------+\n",
      "|50.391780821917806|     2|   168|  62.0|  110|   80|          1|   1|    0|   0|     1|  21.9671201814059|     0|\n",
      "| 55.41917808219178|     1|   156|  85.0|  140|   90|          3|   1|    0|   0|     1|34.927679158448385|     1|\n",
      "| 51.66301369863014|     1|   165|  64.0|  130|   70|          3|   1|    0|   0|     0|23.507805325987146|     1|\n",
      "| 48.28219178082192|     2|   169|  82.0|  150|  100|          1|   1|    0|   0|     1| 28.71047932495361|     1|\n",
      "| 47.87397260273973|     1|   156|  56.0|  100|   60|          1|   1|    0|   0|     0|23.011176857330703|     0|\n",
      "|60.038356164383565|     1|   151|  67.0|  120|   80|          2|   2|    0|   0|     0|29.384676110696898|     0|\n",
      "|60.583561643835615|     1|   157|  93.0|  130|   80|          3|   1|    0|   0|     1| 37.72972534382733|     0|\n",
      "| 61.87397260273973|     2|   178|  95.0|  130|   90|          3|   3|    0|   0|     1|29.983587930816814|     1|\n",
      "| 48.40547945205479|     1|   158|  71.0|  110|   70|          1|   1|    0|   0|     1| 28.44095497516423|     0|\n",
      "| 54.33972602739726|     1|   164|  68.0|  110|   60|          1|   1|    0|   0|     0|25.282569898869724|     0|\n",
      "|61.726027397260275|     1|   169|  80.0|  120|   80|          1|   1|    0|   0|     1| 28.01022373166206|     0|\n",
      "| 51.54794520547945|     2|   173|  60.0|  120|   80|          1|   1|    0|   0|     1| 20.04744562130375|     0|\n",
      "| 40.52328767123288|     2|   165|  60.0|  120|   80|          1|   1|    0|   0|     0| 22.03856749311295|     0|\n",
      "|54.271232876712325|     1|   158|  78.0|  110|   70|          1|   1|    0|   0|     1|31.244992789617044|     0|\n",
      "| 39.81369863013698|     2|   181|  95.0|  130|   90|          1|   1|    1|   1|     1|28.997893837184456|     0|\n",
      "+------------------+------+------+------+-----+-----+-----------+----+-----+----+------+------------------+------+\n",
      "only showing top 15 rows\n",
      "\n"
     ]
    }
   ],
   "source": [
    "df_new = df\n",
    "df_new.show(15)"
   ]
  },
  {
   "cell_type": "code",
   "execution_count": 174,
   "metadata": {},
   "outputs": [
    {
     "data": {
      "text/plain": [
       "['age',\n",
       " 'gender',\n",
       " 'height',\n",
       " 'weight',\n",
       " 'ap_hi',\n",
       " 'ap_lo',\n",
       " 'cholesterol',\n",
       " 'gluc',\n",
       " 'smoke',\n",
       " 'alco',\n",
       " 'active',\n",
       " 'cardio_Catg']"
      ]
     },
     "execution_count": 174,
     "metadata": {},
     "output_type": "execute_result"
    }
   ],
   "source": [
    "[\"age\", \"gender\", \"height\", \"weight\", \"ap_hi\", \"ap_lo\", \"cholesterol\", \"gluc\",\n",
    "               \"smoke\", \"alco\", \"active\", \"cardio_Catg\"]"
   ]
  },
  {
   "cell_type": "code",
   "execution_count": 175,
   "metadata": {},
   "outputs": [],
   "source": [
    "assembler = VectorAssembler().setInputCols\\\n",
    "            (df_new.columns).setOutputCol(\"features\")\n",
    "transformed = assembler.transform(df_new)\n",
    "scaler = MinMaxScaler(inputCol=\"features\",\\\n",
    "         outputCol=\"scaledFeatures\")\n",
    "scalerModel =  scaler.fit(transformed.select(\"features\"))\n",
    "scaledData = scalerModel.transform(transformed)"
   ]
  },
  {
   "cell_type": "code",
   "execution_count": 176,
   "metadata": {},
   "outputs": [
    {
     "data": {
      "text/plain": [
       "pyspark.sql.dataframe.DataFrame"
      ]
     },
     "execution_count": 176,
     "metadata": {},
     "output_type": "execute_result"
    }
   ],
   "source": [
    "type(scaledData)"
   ]
  },
  {
   "cell_type": "code",
   "execution_count": 177,
   "metadata": {},
   "outputs": [
    {
     "name": "stdout",
     "output_type": "stream",
     "text": [
      "+------------------+------+------+------+-----+-----+-----------+----+-----+----+------+------------------+------+--------------------+--------------------+\n",
      "|               age|gender|height|weight|ap_hi|ap_lo|cholesterol|gluc|smoke|alco|active|               bmi|cardio|            features|      scaledFeatures|\n",
      "+------------------+------+------+------+-----+-----+-----------+----+-----+----+------+------------------+------+--------------------+--------------------+\n",
      "|50.391780821917806|     2|   168|  62.0|  110|   80|          1|   1|    0|   0|     1|  21.9671201814059|     0|[50.3917808219178...|[0.58807588075880...|\n",
      "| 55.41917808219178|     1|   156|  85.0|  140|   90|          3|   1|    0|   0|     1|34.927679158448385|     1|[55.4191780821917...|[0.73015873015873...|\n",
      "| 51.66301369863014|     1|   165|  64.0|  130|   70|          3|   1|    0|   0|     0|23.507805325987146|     1|[51.6630136986301...|[0.62400309717382...|\n",
      "| 48.28219178082192|     2|   169|  82.0|  150|  100|          1|   1|    0|   0|     1| 28.71047932495361|     1|[48.2821917808219...|[0.52845528455284...|\n",
      "| 47.87397260273973|     1|   156|  56.0|  100|   60|          1|   1|    0|   0|     0|23.011176857330703|     0|[47.8739726027397...|[0.51691831204026...|\n",
      "|60.038356164383565|     1|   151|  67.0|  120|   80|          2|   2|    0|   0|     0|29.384676110696898|     0|[60.0383561643835...|[0.86070460704607...|\n",
      "|60.583561643835615|     1|   157|  93.0|  130|   80|          3|   1|    0|   0|     1| 37.72972534382733|     0|[60.5835616438356...|[0.87611304684475...|\n",
      "| 61.87397260273973|     2|   178|  95.0|  130|   90|          3|   3|    0|   0|     1|29.983587930816814|     1|[61.8739726027397...|[0.91258226867982...|\n",
      "| 48.40547945205479|     1|   158|  71.0|  110|   70|          1|   1|    0|   0|     1| 28.44095497516423|     0|[48.4054794520547...|[0.53193960511033...|\n",
      "| 54.33972602739726|     1|   164|  68.0|  110|   60|          1|   1|    0|   0|     0|25.282569898869724|     0|[54.3397260273972...|[0.69965156794425...|\n",
      "+------------------+------+------+------+-----+-----+-----------+----+-----+----+------+------------------+------+--------------------+--------------------+\n",
      "only showing top 10 rows\n",
      "\n"
     ]
    }
   ],
   "source": [
    "scaledData.show(10)"
   ]
  },
  {
   "cell_type": "code",
   "execution_count": 178,
   "metadata": {},
   "outputs": [],
   "source": [
    "# def extract(row):\n",
    "#     return (row.pmid, )+tuple(row.scaledFeatures.toArray().tolist())\n",
    "\n",
    "# final_data = scaledData.select(\"pmid\",\"scaledFeatures\").rdd\\\n",
    "#                .map(extract).toDF(df.columns)"
   ]
  },
  {
   "cell_type": "code",
   "execution_count": 179,
   "metadata": {},
   "outputs": [],
   "source": [
    "# type(assembler)"
   ]
  },
  {
   "cell_type": "code",
   "execution_count": 180,
   "metadata": {},
   "outputs": [
    {
     "data": {
      "text/plain": [
       "[Row(scaledFeatures=DenseVector([0.5881, 1.0, 0.5795, 0.2698, 0.4091, 0.4022, 0.0, 0.0, 0.0, 0.0, 1.0, 0.0627, 0.0])),\n",
       " Row(scaledFeatures=DenseVector([0.7302, 0.0, 0.5179, 0.3915, 0.5455, 0.4565, 1.0, 0.0, 0.0, 0.0, 1.0, 0.1066, 1.0]))]"
      ]
     },
     "execution_count": 180,
     "metadata": {},
     "output_type": "execute_result"
    }
   ],
   "source": [
    "scaledData.select('scaledFeatures').head(2)"
   ]
  },
  {
   "cell_type": "code",
   "execution_count": null,
   "metadata": {},
   "outputs": [],
   "source": []
  },
  {
   "cell_type": "code",
   "execution_count": null,
   "metadata": {},
   "outputs": [],
   "source": []
  },
  {
   "cell_type": "code",
   "execution_count": null,
   "metadata": {},
   "outputs": [],
   "source": []
  },
  {
   "cell_type": "code",
   "execution_count": 181,
   "metadata": {},
   "outputs": [],
   "source": [
    "# To demonstrate Scaling"
   ]
  },
  {
   "cell_type": "code",
   "execution_count": 182,
   "metadata": {},
   "outputs": [],
   "source": [
    "# df_minmax_1 =df"
   ]
  },
  {
   "cell_type": "code",
   "execution_count": 183,
   "metadata": {},
   "outputs": [],
   "source": [
    "# df_minmax_1.show(5)"
   ]
  },
  {
   "cell_type": "code",
   "execution_count": 184,
   "metadata": {},
   "outputs": [],
   "source": [
    "# from pyspark.ml import Pipeline\n",
    "# from pyspark.ml.feature import MinMaxScaler\n",
    "# from pyspark.ml.feature import VectorAssembler\n",
    "\n",
    "# columns_to_scale = df_minmax_1.columns\n",
    "# assemblers = [VectorAssembler(inputCols=[col], outputCol=col + \"_vec\") for col in columns_to_scale]\n",
    "# scalers = [MinMaxScaler(inputCol=col + \"_vec\", outputCol=col + \"_scaled\") for col in columns_to_scale]\n",
    "# pipeline = Pipeline(stages=assemblers + scalers)\n",
    "# scalerModel = pipeline.fit(df_minmax_1)\n",
    "# scaledData_22 = scalerModel.transform(df_minmax_1)"
   ]
  },
  {
   "cell_type": "code",
   "execution_count": 185,
   "metadata": {},
   "outputs": [],
   "source": [
    "# scaledData_22.show(5)"
   ]
  },
  {
   "cell_type": "code",
   "execution_count": 186,
   "metadata": {},
   "outputs": [],
   "source": [
    "# from pyspark.sql import functions as f\n",
    "# names = {x + \"_scaled\": x for x in columns_to_scale}\n",
    "# scaledData_22 = scaledData_22.select([f.col(c).alias(names[c]) for c in names.keys()])"
   ]
  },
  {
   "cell_type": "code",
   "execution_count": 187,
   "metadata": {},
   "outputs": [],
   "source": [
    "# scaledData_22.show(10)"
   ]
  },
  {
   "cell_type": "code",
   "execution_count": 188,
   "metadata": {},
   "outputs": [],
   "source": [
    "# type(scaledData_22)"
   ]
  },
  {
   "cell_type": "code",
   "execution_count": null,
   "metadata": {},
   "outputs": [],
   "source": []
  },
  {
   "cell_type": "code",
   "execution_count": null,
   "metadata": {},
   "outputs": [],
   "source": []
  },
  {
   "cell_type": "code",
   "execution_count": null,
   "metadata": {},
   "outputs": [],
   "source": []
  },
  {
   "cell_type": "code",
   "execution_count": null,
   "metadata": {},
   "outputs": [],
   "source": []
  },
  {
   "cell_type": "code",
   "execution_count": 189,
   "metadata": {},
   "outputs": [],
   "source": [
    "## Feature Selection\n",
    "\n"
   ]
  },
  {
   "cell_type": "code",
   "execution_count": 190,
   "metadata": {},
   "outputs": [
    {
     "name": "stdout",
     "output_type": "stream",
     "text": [
      "+------------------+------+------+------+-----+-----+-----------+----+-----+----+------+------------------+------+--------------------+--------------------+\n",
      "|               age|gender|height|weight|ap_hi|ap_lo|cholesterol|gluc|smoke|alco|active|               bmi|cardio|            features|      scaledFeatures|\n",
      "+------------------+------+------+------+-----+-----+-----------+----+-----+----+------+------------------+------+--------------------+--------------------+\n",
      "|50.391780821917806|     2|   168|  62.0|  110|   80|          1|   1|    0|   0|     1|  21.9671201814059|     0|[50.3917808219178...|[0.58807588075880...|\n",
      "| 55.41917808219178|     1|   156|  85.0|  140|   90|          3|   1|    0|   0|     1|34.927679158448385|     1|[55.4191780821917...|[0.73015873015873...|\n",
      "| 51.66301369863014|     1|   165|  64.0|  130|   70|          3|   1|    0|   0|     0|23.507805325987146|     1|[51.6630136986301...|[0.62400309717382...|\n",
      "| 48.28219178082192|     2|   169|  82.0|  150|  100|          1|   1|    0|   0|     1| 28.71047932495361|     1|[48.2821917808219...|[0.52845528455284...|\n",
      "| 47.87397260273973|     1|   156|  56.0|  100|   60|          1|   1|    0|   0|     0|23.011176857330703|     0|[47.8739726027397...|[0.51691831204026...|\n",
      "+------------------+------+------+------+-----+-----+-----------+----+-----+----+------+------------------+------+--------------------+--------------------+\n",
      "only showing top 5 rows\n",
      "\n"
     ]
    }
   ],
   "source": [
    "df_feature = scaledData\n",
    "df_feature.show(5)"
   ]
  },
  {
   "cell_type": "code",
   "execution_count": null,
   "metadata": {},
   "outputs": [],
   "source": []
  },
  {
   "cell_type": "code",
   "execution_count": 191,
   "metadata": {},
   "outputs": [
    {
     "name": "stdout",
     "output_type": "stream",
     "text": [
      "ChiSqSelector output with top 8 features selected\n",
      "+------------------+------+------+------+-----+-----+-----------+----+-----+----+------+------------------+------+--------------------+--------------------+--------------------+\n",
      "|               age|gender|height|weight|ap_hi|ap_lo|cholesterol|gluc|smoke|alco|active|               bmi|cardio|            features|      scaledFeatures|    selectedFeatures|\n",
      "+------------------+------+------+------+-----+-----+-----------+----+-----+----+------+------------------+------+--------------------+--------------------+--------------------+\n",
      "|50.391780821917806|     2|   168|  62.0|  110|   80|          1|   1|    0|   0|     1|  21.9671201814059|     0|[50.3917808219178...|[0.58807588075880...|[0.58807588075880...|\n",
      "| 55.41917808219178|     1|   156|  85.0|  140|   90|          3|   1|    0|   0|     1|34.927679158448385|     1|[55.4191780821917...|[0.73015873015873...|[0.73015873015873...|\n",
      "| 51.66301369863014|     1|   165|  64.0|  130|   70|          3|   1|    0|   0|     0|23.507805325987146|     1|[51.6630136986301...|[0.62400309717382...|[0.62400309717382...|\n",
      "| 48.28219178082192|     2|   169|  82.0|  150|  100|          1|   1|    0|   0|     1| 28.71047932495361|     1|[48.2821917808219...|[0.52845528455284...|[0.52845528455284...|\n",
      "| 47.87397260273973|     1|   156|  56.0|  100|   60|          1|   1|    0|   0|     0|23.011176857330703|     0|[47.8739726027397...|[0.51691831204026...|[0.51691831204026...|\n",
      "+------------------+------+------+------+-----+-----+-----------+----+-----+----+------+------------------+------+--------------------+--------------------+--------------------+\n",
      "only showing top 5 rows\n",
      "\n"
     ]
    }
   ],
   "source": [
    "from pyspark.ml.feature import ChiSqSelector\n",
    "from pyspark.ml.linalg import Vectors\n",
    "\n",
    "\n",
    "selector = ChiSqSelector(numTopFeatures=8, featuresCol=\"scaledFeatures\",\n",
    "                         outputCol=\"selectedFeatures\", labelCol=\"cardio\")\n",
    "\n",
    "final_df = selector.fit(df_feature).transform(df_feature)\n",
    "\n",
    "print(\"ChiSqSelector output with top %d features selected\" % selector.getNumTopFeatures())\n",
    "final_df.show(5)"
   ]
  },
  {
   "cell_type": "code",
   "execution_count": 192,
   "metadata": {},
   "outputs": [
    {
     "data": {
      "text/plain": [
       "DenseVector([0.5881, 0.2698, 0.4091, 0.4022, 0.0, 0.0, 1.0, 0.0627])"
      ]
     },
     "execution_count": 192,
     "metadata": {},
     "output_type": "execute_result"
    }
   ],
   "source": [
    "final_df.head().selectedFeatures"
   ]
  },
  {
   "cell_type": "code",
   "execution_count": 193,
   "metadata": {},
   "outputs": [],
   "source": [
    "# DenseVector([18.0])\n",
    "# >>> model.selectedFeatures"
   ]
  },
  {
   "cell_type": "code",
   "execution_count": 194,
   "metadata": {},
   "outputs": [
    {
     "data": {
      "text/plain": [
       "Column<b'selectedFeatures'>"
      ]
     },
     "execution_count": 194,
     "metadata": {},
     "output_type": "execute_result"
    }
   ],
   "source": [
    "final_df.selectedFeatures"
   ]
  },
  {
   "cell_type": "code",
   "execution_count": 195,
   "metadata": {},
   "outputs": [
    {
     "data": {
      "text/plain": [
       "[Row(selectedFeatures=DenseVector([0.5881, 0.2698, 0.4091, 0.4022, 0.0, 0.0, 1.0, 0.0627])),\n",
       " Row(selectedFeatures=DenseVector([0.7302, 0.3915, 0.5455, 0.4565, 1.0, 0.0, 1.0, 0.1066])),\n",
       " Row(selectedFeatures=DenseVector([0.624, 0.2804, 0.5, 0.3478, 1.0, 0.0, 0.0, 0.0679])),\n",
       " Row(selectedFeatures=DenseVector([0.5285, 0.3757, 0.5909, 0.5109, 0.0, 0.0, 1.0, 0.0855]))]"
      ]
     },
     "execution_count": 195,
     "metadata": {},
     "output_type": "execute_result"
    }
   ],
   "source": [
    "final_df.select('selectedFeatures').head(4)"
   ]
  },
  {
   "cell_type": "code",
   "execution_count": 196,
   "metadata": {},
   "outputs": [
    {
     "data": {
      "text/plain": [
       "[Row(age=50.391780821917806, gender=2, height=168, weight=62.0, ap_hi=110, ap_lo=80, cholesterol=1, gluc=1, smoke=0, alco=0, active=1, bmi=21.9671201814059, cardio=0, features=DenseVector([50.3918, 2.0, 168.0, 62.0, 110.0, 80.0, 1.0, 1.0, 0.0, 0.0, 1.0, 21.9671, 0.0]), scaledFeatures=DenseVector([0.5881, 1.0, 0.5795, 0.2698, 0.4091, 0.4022, 0.0, 0.0, 0.0, 0.0, 1.0, 0.0627, 0.0])),\n",
       " Row(age=55.41917808219178, gender=1, height=156, weight=85.0, ap_hi=140, ap_lo=90, cholesterol=3, gluc=1, smoke=0, alco=0, active=1, bmi=34.927679158448385, cardio=1, features=DenseVector([55.4192, 1.0, 156.0, 85.0, 140.0, 90.0, 3.0, 1.0, 0.0, 0.0, 1.0, 34.9277, 1.0]), scaledFeatures=DenseVector([0.7302, 0.0, 0.5179, 0.3915, 0.5455, 0.4565, 1.0, 0.0, 0.0, 0.0, 1.0, 0.1066, 1.0])),\n",
       " Row(age=51.66301369863014, gender=1, height=165, weight=64.0, ap_hi=130, ap_lo=70, cholesterol=3, gluc=1, smoke=0, alco=0, active=0, bmi=23.507805325987146, cardio=1, features=DenseVector([51.663, 1.0, 165.0, 64.0, 130.0, 70.0, 3.0, 1.0, 0.0, 0.0, 0.0, 23.5078, 1.0]), scaledFeatures=DenseVector([0.624, 0.0, 0.5641, 0.2804, 0.5, 0.3478, 1.0, 0.0, 0.0, 0.0, 0.0, 0.0679, 1.0])),\n",
       " Row(age=48.28219178082192, gender=2, height=169, weight=82.0, ap_hi=150, ap_lo=100, cholesterol=1, gluc=1, smoke=0, alco=0, active=1, bmi=28.71047932495361, cardio=1, features=DenseVector([48.2822, 2.0, 169.0, 82.0, 150.0, 100.0, 1.0, 1.0, 0.0, 0.0, 1.0, 28.7105, 1.0]), scaledFeatures=DenseVector([0.5285, 1.0, 0.5846, 0.3757, 0.5909, 0.5109, 0.0, 0.0, 0.0, 0.0, 1.0, 0.0855, 1.0]))]"
      ]
     },
     "execution_count": 196,
     "metadata": {},
     "output_type": "execute_result"
    }
   ],
   "source": [
    "df_feature.head(4)"
   ]
  },
  {
   "cell_type": "code",
   "execution_count": 197,
   "metadata": {},
   "outputs": [
    {
     "data": {
      "text/plain": [
       "['age', 'weight', 'ap_hi', 'ap_lo', 'cholesterol', 'gluc', 'smoke', 'bmi']"
      ]
     },
     "execution_count": 197,
     "metadata": {},
     "output_type": "execute_result"
    }
   ],
   "source": [
    "# selected features\n",
    "\n",
    "# 0, 3, 4, 5, 6, 7, 8, 11\n",
    "['age' , 'weight' , 'ap_hi', 'ap_lo', 'cholesterol', 'gluc', 'smoke', 'bmi']"
   ]
  },
  {
   "cell_type": "code",
   "execution_count": null,
   "metadata": {},
   "outputs": [],
   "source": []
  },
  {
   "cell_type": "code",
   "execution_count": null,
   "metadata": {},
   "outputs": [],
   "source": []
  },
  {
   "cell_type": "code",
   "execution_count": null,
   "metadata": {},
   "outputs": [],
   "source": []
  },
  {
   "cell_type": "code",
   "execution_count": null,
   "metadata": {},
   "outputs": [],
   "source": []
  },
  {
   "cell_type": "code",
   "execution_count": 198,
   "metadata": {},
   "outputs": [],
   "source": [
    "# Train and Test sets"
   ]
  },
  {
   "cell_type": "code",
   "execution_count": 199,
   "metadata": {},
   "outputs": [],
   "source": [
    "# train_data, test_data = final_df.randomSplit([0.7,0.3])\n",
    "\n",
    "train_data, test_data = final_df.randomSplit([0.8,0.2])"
   ]
  },
  {
   "cell_type": "code",
   "execution_count": 200,
   "metadata": {},
   "outputs": [
    {
     "name": "stdout",
     "output_type": "stream",
     "text": [
      "Train Data Count: 55237\n",
      "+------+-------------+\n",
      "|cardio|count(cardio)|\n",
      "+------+-------------+\n",
      "|     1|        27343|\n",
      "|     0|        27894|\n",
      "+------+-------------+\n",
      "\n"
     ]
    }
   ],
   "source": [
    "print(\"Train Data Count: \" + str(train_data.count()))\n",
    "\n",
    "train_data.groupby('cardio').agg({'cardio': 'count'}).show()"
   ]
  },
  {
   "cell_type": "code",
   "execution_count": 201,
   "metadata": {},
   "outputs": [
    {
     "name": "stdout",
     "output_type": "stream",
     "text": [
      "Test Data Count: 13577\n",
      "+------+-------------+\n",
      "|cardio|count(cardio)|\n",
      "+------+-------------+\n",
      "|     1|         6715|\n",
      "|     0|         6862|\n",
      "+------+-------------+\n",
      "\n"
     ]
    }
   ],
   "source": [
    "print(\"Test Data Count: \" + str(test_data.count()))\n",
    "\n",
    "test_data.groupby('cardio').agg({'cardio': 'count'}).show()"
   ]
  },
  {
   "cell_type": "code",
   "execution_count": null,
   "metadata": {},
   "outputs": [],
   "source": []
  },
  {
   "cell_type": "code",
   "execution_count": 202,
   "metadata": {},
   "outputs": [],
   "source": [
    "# from pyspark.ml.classification import LogisticRegression\n",
    "# # from pyspark.ml import Pipeline\n",
    "\n",
    "# log_reg = LogisticRegression(featuresCol='selectedFeatures',labelCol='cardio')\n",
    "\n",
    "# # pipeline_log_reg = Pipeline(stages=[log_reg])"
   ]
  },
  {
   "cell_type": "code",
   "execution_count": 203,
   "metadata": {},
   "outputs": [],
   "source": [
    "from pyspark.ml.classification import LogisticRegression\n",
    "\n",
    "log_reg = LogisticRegression(featuresCol='selectedFeatures',labelCol='cardio')\n",
    "\n",
    "fit_model_log_reg = log_reg.fit(train_data)\n",
    "\n",
    "results_log_reg = fit_model_log_reg.transform(test_data)\n"
   ]
  },
  {
   "cell_type": "code",
   "execution_count": null,
   "metadata": {},
   "outputs": [],
   "source": []
  },
  {
   "cell_type": "code",
   "execution_count": 204,
   "metadata": {},
   "outputs": [
    {
     "name": "stdout",
     "output_type": "stream",
     "text": [
      "root\n",
      " |-- age: double (nullable = true)\n",
      " |-- gender: integer (nullable = true)\n",
      " |-- height: integer (nullable = true)\n",
      " |-- weight: double (nullable = true)\n",
      " |-- ap_hi: integer (nullable = true)\n",
      " |-- ap_lo: integer (nullable = true)\n",
      " |-- cholesterol: integer (nullable = true)\n",
      " |-- gluc: integer (nullable = true)\n",
      " |-- smoke: integer (nullable = true)\n",
      " |-- alco: integer (nullable = true)\n",
      " |-- active: integer (nullable = true)\n",
      " |-- bmi: double (nullable = true)\n",
      " |-- cardio: integer (nullable = true)\n",
      " |-- features: vector (nullable = true)\n",
      " |-- scaledFeatures: vector (nullable = true)\n",
      " |-- selectedFeatures: vector (nullable = true)\n",
      " |-- rawPrediction: vector (nullable = true)\n",
      " |-- probability: vector (nullable = true)\n",
      " |-- prediction: double (nullable = true)\n",
      "\n"
     ]
    }
   ],
   "source": [
    "results_log_reg.printSchema()"
   ]
  },
  {
   "cell_type": "code",
   "execution_count": 205,
   "metadata": {},
   "outputs": [
    {
     "name": "stdout",
     "output_type": "stream",
     "text": [
      "+------+----------+--------------------+\n",
      "|cardio|prediction|         probability|\n",
      "+------+----------+--------------------+\n",
      "|     0|       0.0|[0.87305066997705...|\n",
      "|     0|       0.0|[0.79503586641363...|\n",
      "|     0|       0.0|[0.69188934989577...|\n",
      "|     0|       0.0|[0.97119785710497...|\n",
      "|     0|       0.0|[0.87991038921897...|\n",
      "|     0|       0.0|[0.76800931818267...|\n",
      "|     0|       0.0|[0.94311445730618...|\n",
      "|     0|       0.0|[0.88352732526268...|\n",
      "|     0|       0.0|[0.94041228876610...|\n",
      "|     0|       0.0|[0.83184501860006...|\n",
      "|     0|       0.0|[0.88714598017638...|\n",
      "|     0|       0.0|[0.89049777502809...|\n",
      "|     0|       0.0|[0.82383214801809...|\n",
      "|     0|       0.0|[0.77640215533570...|\n",
      "|     0|       0.0|[0.79731746635854...|\n",
      "|     1|       1.0|[0.46311778144841...|\n",
      "|     0|       0.0|[0.64856619617287...|\n",
      "|     0|       0.0|[0.88461116057655...|\n",
      "|     0|       0.0|[0.87622100406821...|\n",
      "|     1|       0.0|[0.65038468311301...|\n",
      "+------+----------+--------------------+\n",
      "only showing top 20 rows\n",
      "\n"
     ]
    }
   ],
   "source": [
    "# results_log_reg.select('cardio','prediction').show()\n",
    "\n",
    "results_log_reg.select('cardio','prediction', 'probability').show()"
   ]
  },
  {
   "cell_type": "code",
   "execution_count": 206,
   "metadata": {},
   "outputs": [
    {
     "name": "stdout",
     "output_type": "stream",
     "text": [
      "+------+-------------+\n",
      "|cardio|count(cardio)|\n",
      "+------+-------------+\n",
      "|     1|         6715|\n",
      "|     0|         6862|\n",
      "+------+-------------+\n",
      "\n",
      "+----------+-----------------+\n",
      "|prediction|count(prediction)|\n",
      "+----------+-----------------+\n",
      "|       0.0|             7578|\n",
      "|       1.0|             5999|\n",
      "+----------+-----------------+\n",
      "\n"
     ]
    }
   ],
   "source": [
    "cm = results_log_reg.select(\"cardio\", \"prediction\")\n",
    "cm.groupby('cardio').agg({'cardio': 'count'}).show()\n",
    "cm.groupby('prediction').agg({'prediction': 'count'}).show()"
   ]
  },
  {
   "cell_type": "code",
   "execution_count": 207,
   "metadata": {},
   "outputs": [
    {
     "name": "stdout",
     "output_type": "stream",
     "text": [
      "Logistic Model accuracy: 72.468%\n"
     ]
    }
   ],
   "source": [
    "# Compute accuraccy \n",
    "\n",
    "log_reg_acc = cm.filter(cm.cardio == cm.prediction).count() / cm.count()\n",
    "print(\"Logistic Model accuracy: %.3f%%\" % (log_reg_acc * 100))"
   ]
  },
  {
   "cell_type": "code",
   "execution_count": 208,
   "metadata": {},
   "outputs": [
    {
     "data": {
      "text/plain": [
       "0.724078118716542"
      ]
     },
     "execution_count": 208,
     "metadata": {},
     "output_type": "execute_result"
    }
   ],
   "source": [
    "# Evaluate the model using the binary classifer.\n",
    "from pyspark.ml.evaluation import BinaryClassificationEvaluator\n",
    "\n",
    "log_reg_eval = BinaryClassificationEvaluator(rawPredictionCol='prediction',\n",
    "                                       labelCol='cardio')\n",
    "\n",
    "AUC_log_reg = log_reg_eval.evaluate(results_log_reg)\n",
    "\n",
    "AUC_log_reg"
   ]
  },
  {
   "cell_type": "code",
   "execution_count": 209,
   "metadata": {},
   "outputs": [
    {
     "name": "stdout",
     "output_type": "stream",
     "text": [
      "Log reg Test Error = 0.275319 \n",
      "Log reg accurracy = 0.724681 \n"
     ]
    }
   ],
   "source": [
    "# Evaluate using MulticlassClassificationEvaluator\n",
    "# Select (prediction, true label) and compute test error\n",
    "\n",
    "from pyspark.ml.evaluation import MulticlassClassificationEvaluator\n",
    "\n",
    "\n",
    "log_reg_evaluator = MulticlassClassificationEvaluator(\n",
    "    labelCol=\"cardio\", predictionCol=\"prediction\", metricName=\"accuracy\")\n",
    "log_reg_accuracy = log_reg_evaluator.evaluate(results_log_reg)\n",
    "\n",
    "print(\"Log reg Test Error = %g \" % (1.0 - log_reg_accuracy))\n",
    "print(\"Log reg accurracy = %g \" % (log_reg_accuracy))\n"
   ]
  },
  {
   "cell_type": "code",
   "execution_count": null,
   "metadata": {},
   "outputs": [],
   "source": []
  },
  {
   "cell_type": "code",
   "execution_count": 210,
   "metadata": {},
   "outputs": [],
   "source": [
    "# # Print the coefficients and intercept for logistic regression\n",
    "# print(\"Coefficients: \" + str(log_reg.fit(train_data).coefficients))\n",
    "# print(\"Intercept: \" + str(log_reg.fit(train_data).intercept))"
   ]
  },
  {
   "cell_type": "code",
   "execution_count": 211,
   "metadata": {},
   "outputs": [
    {
     "name": "stdout",
     "output_type": "stream",
     "text": [
      "Coefficients: [1.8522768618618202,1.4811892252095573,11.759049021283166,2.9558176250384265,1.0106429399352355,-0.24014104856989618,-0.24836455334956617,1.6896764258481238]\n",
      "Intercept: -8.712250861865696\n"
     ]
    }
   ],
   "source": [
    "# Print the coefficients and intercept for logistic regression\n",
    "\n",
    "print(\"Coefficients: \" + str(fit_model_log_reg.coefficients))\n",
    "print(\"Intercept: \" + str(fit_model_log_reg.intercept))"
   ]
  },
  {
   "cell_type": "code",
   "execution_count": 212,
   "metadata": {},
   "outputs": [
    {
     "data": {
      "text/plain": [
       "['age', 'weight', 'ap_hi', 'ap_lo', 'cholesterol', 'gluc', 'smoke', 'bmi']"
      ]
     },
     "execution_count": 212,
     "metadata": {},
     "output_type": "execute_result"
    }
   ],
   "source": [
    "# selected features\n",
    "\n",
    "['age' , 'weight' , 'ap_hi', 'ap_lo', 'cholesterol', 'gluc', 'smoke', 'bmi']"
   ]
  },
  {
   "cell_type": "code",
   "execution_count": null,
   "metadata": {},
   "outputs": [],
   "source": []
  },
  {
   "cell_type": "code",
   "execution_count": 213,
   "metadata": {},
   "outputs": [
    {
     "name": "stdout",
     "output_type": "stream",
     "text": [
      "DataFrame[FPR: double, TPR: double]\n"
     ]
    }
   ],
   "source": [
    "type(fit_model_log_reg.summary)\n",
    "print(fit_model_log_reg.summary.roc)"
   ]
  },
  {
   "cell_type": "code",
   "execution_count": 214,
   "metadata": {},
   "outputs": [],
   "source": [
    "# import matplotlib.pyplot as plt\n",
    "# import numpy as np\n",
    "\n",
    "# trainingSummary = log_reg.fit(train_data).summary\n",
    "# roc = trainingSummary.roc.toPandas()\n",
    "# plt.plot(roc['FPR'],roc['TPR'])\n",
    "# plt.ylabel('False Positive Rate')\n",
    "# plt.xlabel('True Positive Rate')\n",
    "# plt.title('ROC Curve')\n",
    "# plt.show()\n",
    "# print('Training set areaUnderROC: ' + str(trainingSummary.areaUnderROC))"
   ]
  },
  {
   "cell_type": "code",
   "execution_count": 215,
   "metadata": {},
   "outputs": [
    {
     "data": {
      "image/png": "[encoded data removed]",
      "text/plain": [
       "<Figure size 432x288 with 1 Axes>"
      ]
     },
     "metadata": {},
     "output_type": "display_data"
    }
   ],
   "source": [
    "import matplotlib.pyplot as plt\n",
    "import numpy as np\n",
    "\n",
    "trainingSummary = log_reg.fit(train_data).summary\n",
    "roc = trainingSummary.roc.toPandas()\n",
    "plt.plot(roc['FPR'],roc['TPR'])\n",
    "plt.ylabel('False Positive Rate')\n",
    "plt.xlabel('True Positive Rate')\n",
    "plt.title('ROC Curve')\n",
    "plt.show()"
   ]
  },
  {
   "cell_type": "code",
   "execution_count": 216,
   "metadata": {},
   "outputs": [
    {
     "data": {
      "image/png": "[encoded data removed]",
      "text/plain": [
       "<Figure size 432x288 with 1 Axes>"
      ]
     },
     "metadata": {},
     "output_type": "display_data"
    }
   ],
   "source": [
    "pr = trainingSummary.pr.toPandas()\n",
    "plt.plot(pr['recall'],pr['precision'])\n",
    "plt.ylabel('Precision')\n",
    "plt.xlabel('Recall')\n",
    "plt.show()"
   ]
  },
  {
   "cell_type": "code",
   "execution_count": null,
   "metadata": {},
   "outputs": [],
   "source": []
  },
  {
   "cell_type": "code",
   "execution_count": null,
   "metadata": {},
   "outputs": [],
   "source": []
  },
  {
   "cell_type": "code",
   "execution_count": null,
   "metadata": {},
   "outputs": [],
   "source": []
  },
  {
   "cell_type": "code",
   "execution_count": 217,
   "metadata": {},
   "outputs": [
    {
     "name": "stdout",
     "output_type": "stream",
     "text": [
      "+------------------+------+------+------+-----+-----+-----------+----+-----+----+------+------------------+------+\n",
      "|               age|gender|height|weight|ap_hi|ap_lo|cholesterol|gluc|smoke|alco|active|               bmi|cardio|\n",
      "+------------------+------+------+------+-----+-----+-----------+----+-----+----+------+------------------+------+\n",
      "|50.391780821917806|     2|   168|  62.0|  110|   80|          1|   1|    0|   0|     1|  21.9671201814059|     0|\n",
      "| 55.41917808219178|     1|   156|  85.0|  140|   90|          3|   1|    0|   0|     1|34.927679158448385|     1|\n",
      "| 51.66301369863014|     1|   165|  64.0|  130|   70|          3|   1|    0|   0|     0|23.507805325987146|     1|\n",
      "| 48.28219178082192|     2|   169|  82.0|  150|  100|          1|   1|    0|   0|     1| 28.71047932495361|     1|\n",
      "| 47.87397260273973|     1|   156|  56.0|  100|   60|          1|   1|    0|   0|     0|23.011176857330703|     0|\n",
      "|60.038356164383565|     1|   151|  67.0|  120|   80|          2|   2|    0|   0|     0|29.384676110696898|     0|\n",
      "|60.583561643835615|     1|   157|  93.0|  130|   80|          3|   1|    0|   0|     1| 37.72972534382733|     0|\n",
      "| 61.87397260273973|     2|   178|  95.0|  130|   90|          3|   3|    0|   0|     1|29.983587930816814|     1|\n",
      "| 48.40547945205479|     1|   158|  71.0|  110|   70|          1|   1|    0|   0|     1| 28.44095497516423|     0|\n",
      "| 54.33972602739726|     1|   164|  68.0|  110|   60|          1|   1|    0|   0|     0|25.282569898869724|     0|\n",
      "+------------------+------+------+------+-----+-----+-----------+----+-----+----+------+------------------+------+\n",
      "only showing top 10 rows\n",
      "\n"
     ]
    }
   ],
   "source": [
    "df_new.show(10)"
   ]
  },
  {
   "cell_type": "code",
   "execution_count": 218,
   "metadata": {},
   "outputs": [],
   "source": [
    "df_encode = df_new"
   ]
  },
  {
   "cell_type": "code",
   "execution_count": 219,
   "metadata": {},
   "outputs": [
    {
     "name": "stdout",
     "output_type": "stream",
     "text": [
      "+------------------+------+------+------+-----+-----+-----------+----+-----+----+------+------------------+------+-------------+----------------+-------------+-------------+-------------+-------------+-------------+\n",
      "|               age|gender|height|weight|ap_hi|ap_lo|cholesterol|gluc|smoke|alco|active|               bmi|cardio|  gender_Catg|cholesterol_Catg|    gluc_Catg|   smoke_Catg|    alco_Catg|  active_Catg|  cardio_Catg|\n",
      "+------------------+------+------+------+-----+-----+-----------+----+-----+----+------+------------------+------+-------------+----------------+-------------+-------------+-------------+-------------+-------------+\n",
      "|50.391780821917806|     2|   168|  62.0|  110|   80|          1|   1|    0|   0|     1|  21.9671201814059|     0|    (2,[],[])|   (3,[1],[1.0])|(3,[1],[1.0])|(1,[0],[1.0])|(1,[0],[1.0])|    (1,[],[])|(1,[0],[1.0])|\n",
      "| 55.41917808219178|     1|   156|  85.0|  140|   90|          3|   1|    0|   0|     1|34.927679158448385|     1|(2,[1],[1.0])|       (3,[],[])|(3,[1],[1.0])|(1,[0],[1.0])|(1,[0],[1.0])|    (1,[],[])|    (1,[],[])|\n",
      "| 51.66301369863014|     1|   165|  64.0|  130|   70|          3|   1|    0|   0|     0|23.507805325987146|     1|(2,[1],[1.0])|       (3,[],[])|(3,[1],[1.0])|(1,[0],[1.0])|(1,[0],[1.0])|(1,[0],[1.0])|    (1,[],[])|\n",
      "| 48.28219178082192|     2|   169|  82.0|  150|  100|          1|   1|    0|   0|     1| 28.71047932495361|     1|    (2,[],[])|   (3,[1],[1.0])|(3,[1],[1.0])|(1,[0],[1.0])|(1,[0],[1.0])|    (1,[],[])|    (1,[],[])|\n",
      "| 47.87397260273973|     1|   156|  56.0|  100|   60|          1|   1|    0|   0|     0|23.011176857330703|     0|(2,[1],[1.0])|   (3,[1],[1.0])|(3,[1],[1.0])|(1,[0],[1.0])|(1,[0],[1.0])|(1,[0],[1.0])|(1,[0],[1.0])|\n",
      "|60.038356164383565|     1|   151|  67.0|  120|   80|          2|   2|    0|   0|     0|29.384676110696898|     0|(2,[1],[1.0])|   (3,[2],[1.0])|(3,[2],[1.0])|(1,[0],[1.0])|(1,[0],[1.0])|(1,[0],[1.0])|(1,[0],[1.0])|\n",
      "|60.583561643835615|     1|   157|  93.0|  130|   80|          3|   1|    0|   0|     1| 37.72972534382733|     0|(2,[1],[1.0])|       (3,[],[])|(3,[1],[1.0])|(1,[0],[1.0])|(1,[0],[1.0])|    (1,[],[])|(1,[0],[1.0])|\n",
      "| 61.87397260273973|     2|   178|  95.0|  130|   90|          3|   3|    0|   0|     1|29.983587930816814|     1|    (2,[],[])|       (3,[],[])|    (3,[],[])|(1,[0],[1.0])|(1,[0],[1.0])|    (1,[],[])|    (1,[],[])|\n",
      "| 48.40547945205479|     1|   158|  71.0|  110|   70|          1|   1|    0|   0|     1| 28.44095497516423|     0|(2,[1],[1.0])|   (3,[1],[1.0])|(3,[1],[1.0])|(1,[0],[1.0])|(1,[0],[1.0])|    (1,[],[])|(1,[0],[1.0])|\n",
      "| 54.33972602739726|     1|   164|  68.0|  110|   60|          1|   1|    0|   0|     0|25.282569898869724|     0|(2,[1],[1.0])|   (3,[1],[1.0])|(3,[1],[1.0])|(1,[0],[1.0])|(1,[0],[1.0])|(1,[0],[1.0])|(1,[0],[1.0])|\n",
      "+------------------+------+------+------+-----+-----+-----------+----+-----+----+------+------------------+------+-------------+----------------+-------------+-------------+-------------+-------------+-------------+\n",
      "only showing top 10 rows\n",
      "\n"
     ]
    }
   ],
   "source": [
    "from pyspark.ml.feature import VectorIndexer, OneHotEncoder\n",
    "\n",
    "gender_encoder = OneHotEncoder(inputCol='gender',outputCol='gender_Catg').transform(df_encode)\n",
    "cholesterol_encoder = OneHotEncoder(inputCol='cholesterol',outputCol='cholesterol_Catg').transform(gender_encoder)\n",
    "gluc_encoder = OneHotEncoder(inputCol='gluc',outputCol='gluc_Catg').transform(cholesterol_encoder)\n",
    "smoke_encoder = OneHotEncoder(inputCol='smoke',outputCol='smoke_Catg').transform(gluc_encoder)\n",
    "alco_encoder = OneHotEncoder(inputCol='alco',outputCol='alco_Catg').transform(smoke_encoder)\n",
    "active_encoder = OneHotEncoder(inputCol='active',outputCol='active_Catg').transform(alco_encoder)\n",
    "cardio_encoder = OneHotEncoder(inputCol='cardio',outputCol='cardio_Catg').transform(active_encoder)\n",
    "\n",
    "cardio_encoder.show(10)"
   ]
  },
  {
   "cell_type": "code",
   "execution_count": 220,
   "metadata": {},
   "outputs": [
    {
     "data": {
      "text/plain": [
       "[('age', 'double'),\n",
       " ('gender', 'int'),\n",
       " ('height', 'int'),\n",
       " ('weight', 'double'),\n",
       " ('ap_hi', 'int'),\n",
       " ('ap_lo', 'int'),\n",
       " ('cholesterol', 'int'),\n",
       " ('gluc', 'int'),\n",
       " ('smoke', 'int'),\n",
       " ('alco', 'int'),\n",
       " ('active', 'int'),\n",
       " ('bmi', 'double'),\n",
       " ('cardio', 'int'),\n",
       " ('gender_Catg', 'vector'),\n",
       " ('cholesterol_Catg', 'vector'),\n",
       " ('gluc_Catg', 'vector'),\n",
       " ('smoke_Catg', 'vector'),\n",
       " ('alco_Catg', 'vector'),\n",
       " ('active_Catg', 'vector'),\n",
       " ('cardio_Catg', 'vector')]"
      ]
     },
     "execution_count": 220,
     "metadata": {},
     "output_type": "execute_result"
    }
   ],
   "source": [
    "cardio_encoder.dtypes"
   ]
  },
  {
   "cell_type": "code",
   "execution_count": 221,
   "metadata": {},
   "outputs": [
    {
     "name": "stdout",
     "output_type": "stream",
     "text": [
      "+------------------+------+------+------+-----+-----+-----------+----+-----+----+------+----------------+------+-----------+----------------+-------------+-------------+-------------+-----------+-------------+--------------------+\n",
      "|               age|gender|height|weight|ap_hi|ap_lo|cholesterol|gluc|smoke|alco|active|             bmi|cardio|gender_Catg|cholesterol_Catg|    gluc_Catg|   smoke_Catg|    alco_Catg|active_Catg|  cardio_Catg|            features|\n",
      "+------------------+------+------+------+-----+-----+-----------+----+-----+----+------+----------------+------+-----------+----------------+-------------+-------------+-------------+-----------+-------------+--------------------+\n",
      "|50.391780821917806|     2|   168|  62.0|  110|   80|          1|   1|    0|   0|     1|21.9671201814059|     0|  (2,[],[])|   (3,[1],[1.0])|(3,[1],[1.0])|(1,[0],[1.0])|(1,[0],[1.0])|  (1,[],[])|(1,[0],[1.0])|(17,[0,3,4,5,6,8,...|\n",
      "+------------------+------+------+------+-----+-----+-----------+----+-----+----+------+----------------+------+-----------+----------------+-------------+-------------+-------------+-----------+-------------+--------------------+\n",
      "only showing top 1 row\n",
      "\n"
     ]
    }
   ],
   "source": [
    "from pyspark.ml.feature import VectorIndexer, OneHotEncoder\n",
    "\n",
    "df_encode = df_new\n",
    "gender_encoder = OneHotEncoder(inputCol='gender',outputCol='gender_Catg')\n",
    "cholesterol_encoder = OneHotEncoder(inputCol='cholesterol',outputCol='cholesterol_Catg')\n",
    "gluc_encoder = OneHotEncoder(inputCol='gluc',outputCol='gluc_Catg')\n",
    "smoke_encoder = OneHotEncoder(inputCol='smoke',outputCol='smoke_Catg')\n",
    "alco_encoder = OneHotEncoder(inputCol='alco',outputCol='alco_Catg')\n",
    "active_encoder = OneHotEncoder(inputCol='active',outputCol='active_Catg')\n",
    "cardio_encoder = OneHotEncoder(inputCol='cardio',outputCol='cardio_Catg')\n",
    "\n",
    "\n",
    "from pyspark.ml.feature import VectorAssembler\n",
    "\n",
    "assembler = VectorAssembler(\n",
    "    inputCols=[\"age\", \"gender_Catg\", \"height\", \"weight\", \"ap_hi\", \"ap_lo\", \"cholesterol_Catg\", \"gluc_Catg\",\n",
    "               \"smoke_Catg\", \"alco_Catg\", \"active_Catg\", \"bmi\"], outputCol=\"features\")\n",
    "\n",
    "\n",
    "from pyspark.ml import Pipeline\n",
    "\n",
    "pipeline = Pipeline(stages=[gender_encoder, cholesterol_encoder, gluc_encoder, smoke_encoder, alco_encoder, active_encoder, cardio_encoder, assembler])\n",
    "encode_model = pipeline.fit(df_encode)\n",
    "df_encode_transformed = encode_model.transform(df_encode)\n",
    "\n",
    "df_encode_transformed.show(1)"
   ]
  },
  {
   "cell_type": "code",
   "execution_count": null,
   "metadata": {},
   "outputs": [],
   "source": []
  },
  {
   "cell_type": "code",
   "execution_count": null,
   "metadata": {},
   "outputs": [],
   "source": []
  },
  {
   "cell_type": "code",
   "execution_count": null,
   "metadata": {},
   "outputs": [],
   "source": []
  },
  {
   "cell_type": "code",
   "execution_count": null,
   "metadata": {},
   "outputs": [],
   "source": []
  },
  {
   "cell_type": "code",
   "execution_count": 222,
   "metadata": {},
   "outputs": [
    {
     "name": "stdout",
     "output_type": "stream",
     "text": [
      "+------------------+------+------+------+-----+-----+-----------+----+-----+----+------+----------------+------+-----------+----------------+-------------+-------------+-------------+-----------+-------------+--------------------+\n",
      "|               age|gender|height|weight|ap_hi|ap_lo|cholesterol|gluc|smoke|alco|active|             bmi|cardio|gender_Catg|cholesterol_Catg|    gluc_Catg|   smoke_Catg|    alco_Catg|active_Catg|  cardio_Catg|            features|\n",
      "+------------------+------+------+------+-----+-----+-----------+----+-----+----+------+----------------+------+-----------+----------------+-------------+-------------+-------------+-----------+-------------+--------------------+\n",
      "|50.391780821917806|     2|   168|  62.0|  110|   80|          1|   1|    0|   0|     1|21.9671201814059|     0|  (2,[],[])|   (3,[1],[1.0])|(3,[1],[1.0])|(1,[0],[1.0])|(1,[0],[1.0])|  (1,[],[])|(1,[0],[1.0])|(17,[0,3,4,5,6,8,...|\n",
      "+------------------+------+------+------+-----+-----+-----------+----+-----+----+------+----------------+------+-----------+----------------+-------------+-------------+-------------+-----------+-------------+--------------------+\n",
      "only showing top 1 row\n",
      "\n"
     ]
    }
   ],
   "source": [
    "data = df_encode_transformed\n",
    "data.show(1)"
   ]
  },
  {
   "cell_type": "code",
   "execution_count": null,
   "metadata": {},
   "outputs": [],
   "source": []
  },
  {
   "cell_type": "code",
   "execution_count": null,
   "metadata": {},
   "outputs": [],
   "source": []
  },
  {
   "cell_type": "code",
   "execution_count": 223,
   "metadata": {},
   "outputs": [],
   "source": [
    "# Split the data into training and test sets (30% held out for testing)\n",
    "(train_data, test_data) = data.randomSplit([0.8, 0.2])"
   ]
  },
  {
   "cell_type": "code",
   "execution_count": null,
   "metadata": {},
   "outputs": [],
   "source": []
  },
  {
   "cell_type": "code",
   "execution_count": 224,
   "metadata": {},
   "outputs": [],
   "source": [
    "\n",
    "from pyspark.ml.classification import DecisionTreeClassifier\n",
    "\n",
    "# Train a DecisionTree model.\n",
    "dt = DecisionTreeClassifier(labelCol=\"cardio\", featuresCol=\"features\", maxDepth=5)\n",
    "dt_model = dt.fit(train_data)\n",
    "dt_predictions = dt_model.transform(test_data)"
   ]
  },
  {
   "cell_type": "code",
   "execution_count": 225,
   "metadata": {},
   "outputs": [
    {
     "name": "stdout",
     "output_type": "stream",
     "text": [
      "DecisionTreeClassificationModel (uid=DecisionTreeClassifier_46889ba058c1b765414d) of depth 5 with 63 nodes\n"
     ]
    }
   ],
   "source": [
    "print(dt_model)"
   ]
  },
  {
   "cell_type": "code",
   "execution_count": 226,
   "metadata": {},
   "outputs": [
    {
     "name": "stdout",
     "output_type": "stream",
     "text": [
      "+------+----------+\n",
      "|cardio|prediction|\n",
      "+------+----------+\n",
      "|     0|       0.0|\n",
      "|     1|       1.0|\n",
      "|     0|       0.0|\n",
      "|     1|       1.0|\n",
      "|     1|       1.0|\n",
      "|     0|       0.0|\n",
      "|     1|       1.0|\n",
      "|     0|       1.0|\n",
      "|     0|       0.0|\n",
      "|     0|       0.0|\n",
      "|     1|       1.0|\n",
      "|     0|       0.0|\n",
      "|     0|       0.0|\n",
      "|     0|       0.0|\n",
      "|     0|       0.0|\n",
      "|     0|       0.0|\n",
      "|     0|       0.0|\n",
      "|     0|       0.0|\n",
      "|     1|       1.0|\n",
      "|     0|       1.0|\n",
      "+------+----------+\n",
      "only showing top 20 rows\n",
      "\n"
     ]
    }
   ],
   "source": [
    "# Select example rows to display for predictions.\n",
    "dt_predictions.select(\"cardio\", \"prediction\").show()\n"
   ]
  },
  {
   "cell_type": "code",
   "execution_count": 227,
   "metadata": {},
   "outputs": [
    {
     "name": "stdout",
     "output_type": "stream",
     "text": [
      "DT Test Error = 0.271262 \n",
      "DT Test Accurracy = 0.728738%\n"
     ]
    }
   ],
   "source": [
    "# Select (prediction, true label) and compute test error\n",
    "dt_evaluator = MulticlassClassificationEvaluator(\n",
    "    labelCol=\"cardio\", predictionCol=\"prediction\", metricName=\"accuracy\")\n",
    "dt_accuracy = dt_evaluator.evaluate(dt_predictions)\n",
    "print(\"DT Test Error = %g \" % (1.0 - dt_accuracy))\n",
    "print(\"DT Test Accurracy = %g%%\" % (dt_accuracy))"
   ]
  },
  {
   "cell_type": "code",
   "execution_count": null,
   "metadata": {},
   "outputs": [],
   "source": []
  },
  {
   "cell_type": "code",
   "execution_count": 228,
   "metadata": {},
   "outputs": [
    {
     "name": "stdout",
     "output_type": "stream",
     "text": [
      "DecisionTreeClassificationModel (uid=DecisionTreeClassifier_46889ba058c1b765414d) of depth 5 with 63 nodes\n",
      "  If (feature 5 <= 128.0)\n",
      "   If (feature 0 <= 54.95342465753425)\n",
      "    If (feature 8 in {0.0})\n",
      "     If (feature 9 in {0.0})\n",
      "      If (feature 11 in {0.0})\n",
      "       Predict: 0.0\n",
      "      Else (feature 11 not in {0.0})\n",
      "       Predict: 1.0\n",
      "     Else (feature 9 not in {0.0})\n",
      "      If (feature 16 <= 26.672763298277697)\n",
      "       Predict: 0.0\n",
      "      Else (feature 16 > 26.672763298277697)\n",
      "       Predict: 0.0\n",
      "    Else (feature 8 not in {0.0})\n",
      "     If (feature 0 <= 43.942465753424656)\n",
      "      If (feature 5 <= 119.0)\n",
      "       Predict: 0.0\n",
      "      Else (feature 5 > 119.0)\n",
      "       Predict: 0.0\n",
      "     Else (feature 0 > 43.942465753424656)\n",
      "      If (feature 5 <= 119.0)\n",
      "       Predict: 0.0\n",
      "      Else (feature 5 > 119.0)\n",
      "       Predict: 0.0\n",
      "   Else (feature 0 > 54.95342465753425)\n",
      "    If (feature 8 in {0.0})\n",
      "     If (feature 9 in {1.0})\n",
      "      If (feature 5 <= 111.0)\n",
      "       Predict: 0.0\n",
      "      Else (feature 5 > 111.0)\n",
      "       Predict: 0.0\n",
      "     Else (feature 9 not in {1.0})\n",
      "      If (feature 16 <= 24.34960912469563)\n",
      "       Predict: 1.0\n",
      "      Else (feature 16 > 24.34960912469563)\n",
      "       Predict: 1.0\n",
      "    Else (feature 8 not in {0.0})\n",
      "     If (feature 0 <= 61.57534246575342)\n",
      "      If (feature 5 <= 119.0)\n",
      "       Predict: 0.0\n",
      "      Else (feature 5 > 119.0)\n",
      "       Predict: 0.0\n",
      "     Else (feature 0 > 61.57534246575342)\n",
      "      If (feature 15 in {1.0})\n",
      "       Predict: 1.0\n",
      "      Else (feature 15 not in {1.0})\n",
      "       Predict: 1.0\n",
      "  Else (feature 5 > 128.0)\n",
      "   If (feature 5 <= 138.0)\n",
      "    If (feature 8 in {0.0})\n",
      "     If (feature 9 in {1.0})\n",
      "      If (feature 0 <= 62.06027397260274)\n",
      "       Predict: 1.0\n",
      "      Else (feature 0 > 62.06027397260274)\n",
      "       Predict: 1.0\n",
      "     Else (feature 9 not in {1.0})\n",
      "      If (feature 11 in {0.0})\n",
      "       Predict: 1.0\n",
      "      Else (feature 11 not in {0.0})\n",
      "       Predict: 1.0\n",
      "    Else (feature 8 not in {0.0})\n",
      "     If (feature 0 <= 59.534246575342465)\n",
      "      If (feature 6 <= 89.0)\n",
      "       Predict: 0.0\n",
      "      Else (feature 6 > 89.0)\n",
      "       Predict: 1.0\n",
      "     Else (feature 0 > 59.534246575342465)\n",
      "      If (feature 0 <= 63.37260273972603)\n",
      "       Predict: 1.0\n",
      "      Else (feature 0 > 63.37260273972603)\n",
      "       Predict: 1.0\n",
      "   Else (feature 5 > 138.0)\n",
      "    If (feature 5 <= 148.0)\n",
      "     If (feature 11 in {0.0})\n",
      "      If (feature 0 <= 63.37260273972603)\n",
      "       Predict: 1.0\n",
      "      Else (feature 0 > 63.37260273972603)\n",
      "       Predict: 1.0\n",
      "     Else (feature 11 not in {0.0})\n",
      "      If (feature 8 in {0.0})\n",
      "       Predict: 1.0\n",
      "      Else (feature 8 not in {0.0})\n",
      "       Predict: 1.0\n",
      "    Else (feature 5 > 148.0)\n",
      "     If (feature 4 <= 52.0)\n",
      "      If (feature 16 <= 20.307412205454995)\n",
      "       Predict: 1.0\n",
      "      Else (feature 16 > 20.307412205454995)\n",
      "       Predict: 1.0\n",
      "     Else (feature 4 > 52.0)\n",
      "      If (feature 6 <= 69.0)\n",
      "       Predict: 1.0\n",
      "      Else (feature 6 > 69.0)\n",
      "       Predict: 1.0\n",
      "\n"
     ]
    }
   ],
   "source": [
    "print(dt_model.toDebugString)"
   ]
  },
  {
   "cell_type": "code",
   "execution_count": null,
   "metadata": {},
   "outputs": [],
   "source": []
  },
  {
   "cell_type": "code",
   "execution_count": 229,
   "metadata": {},
   "outputs": [
    {
     "name": "stdout",
     "output_type": "stream",
     "text": [
      "+------+-------------+\n",
      "|cardio|count(cardio)|\n",
      "+------+-------------+\n",
      "|     1|         6711|\n",
      "|     0|         6940|\n",
      "+------+-------------+\n",
      "\n",
      "+----------+-----------------+\n",
      "|prediction|count(prediction)|\n",
      "+----------+-----------------+\n",
      "|       0.0|             7667|\n",
      "|       1.0|             5984|\n",
      "+----------+-----------------+\n",
      "\n"
     ]
    }
   ],
   "source": [
    "dt_cm = dt_predictions.select(\"cardio\", \"prediction\")\n",
    "dt_cm.groupby('cardio').agg({'cardio': 'count'}).show()\n",
    "dt_cm.groupby('prediction').agg({'prediction': 'count'}).show()"
   ]
  },
  {
   "cell_type": "code",
   "execution_count": null,
   "metadata": {},
   "outputs": [],
   "source": []
  },
  {
   "cell_type": "code",
   "execution_count": null,
   "metadata": {},
   "outputs": [],
   "source": []
  },
  {
   "cell_type": "code",
   "execution_count": null,
   "metadata": {},
   "outputs": [],
   "source": []
  }
 ],
 "metadata": {
  "kernelspec": {
   "display_name": "Python 3",
   "language": "python",
   "name": "python3"
  },
  "language_info": {
   "codemirror_mode": {
    "name": "ipython",
    "version": 3
   },
   "file_extension": ".py",
   "mimetype": "text/x-python",
   "name": "python",
   "nbconvert_exporter": "python",
   "pygments_lexer": "ipython3",
   "version": "3.5.2"
  }
 },
 "nbformat": 4,
 "nbformat_minor": 2
}
